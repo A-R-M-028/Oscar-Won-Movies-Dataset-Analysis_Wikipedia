{
  "nbformat": 4,
  "nbformat_minor": 0,
  "metadata": {
    "colab": {
      "provenance": [],
      "authorship_tag": "ABX9TyOfAb6JSrc6IdGOa8ii5g7E",
      "include_colab_link": true
    },
    "kernelspec": {
      "name": "python3",
      "display_name": "Python 3"
    },
    "language_info": {
      "name": "python"
    }
  },
  "cells": [
    {
      "cell_type": "markdown",
      "metadata": {
        "id": "view-in-github",
        "colab_type": "text"
      },
      "source": [
        "<a href=\"https://colab.research.google.com/github/A-R-M-028/Oscar-Won-Movies-Dataset-Analysis_Wikipedia/blob/main/Project2_Web_Scraping_Oscar_Won_Movies_Analysis_Wikipedia.ipynb\" target=\"_parent\"><img src=\"https://colab.research.google.com/assets/colab-badge.svg\" alt=\"Open In Colab\"/></a>"
      ]
    },
    {
      "cell_type": "markdown",
      "source": [
        "# Web Scraping -> Data Mining + Data Collection"
      ],
      "metadata": {
        "id": "3yJOdrMsRAIf"
      }
    },
    {
      "cell_type": "markdown",
      "source": [
        "# Dataset ->\n",
        "https://en.wikipedia.org/wiki/List_of_Academy_Award-winning_films"
      ],
      "metadata": {
        "id": "FSfQLghmtBXW"
      }
    },
    {
      "cell_type": "markdown",
      "source": [
        "* Data Mining -> Pattern -> Using RE module\n",
        "->\n",
        "1. GET\n",
        "2. PUT -> Update all item, PATCH -> Update individual item\n",
        "3. POST\n",
        "4. DALETE"
      ],
      "metadata": {
        "id": "j9uL12RCRroa"
      }
    },
    {
      "cell_type": "markdown",
      "source": [
        "# Importing Libraries"
      ],
      "metadata": {
        "id": "08jWv-xSbwBZ"
      }
    },
    {
      "cell_type": "code",
      "source": [
        "import numpy as np\n",
        "import pandas as pd\n",
        "import matplotlib.pyplot as plt\n",
        "import seaborn as sns\n",
        "import re\n",
        "from bs4 import BeautifulSoup\n",
        "import requests"
      ],
      "metadata": {
        "id": "VU1wpO3iRzL2"
      },
      "execution_count": null,
      "outputs": []
    },
    {
      "cell_type": "markdown",
      "source": [
        "# Web Scraping\n",
        "-> Status Codes: Https port 443\n",
        "* Success 200 -> Ok\n",
        "* Success 201 -> Created\n",
        "* -> Bad request 400\n",
        "* -> Not avl 404\n",
        "* Not authorised 401\n",
        "* Auth but forbidden to access 403\n",
        "* Server error 500\n",
        "\n",
        "## 200 -> Success, 400 -> Bad Request (Error), 500 -> Server Error (Gateway)\n"
      ],
      "metadata": {
        "id": "tBxhTsYddEck"
      }
    },
    {
      "cell_type": "code",
      "source": [
        "# Check for possibilities of scraping\n",
        "url ='https://en.wikipedia.org/wiki/List_of_Academy_Award-winning_films'\n",
        "req = requests.get(url)"
      ],
      "metadata": {
        "id": "3XNgdFIPcSi7"
      },
      "execution_count": null,
      "outputs": []
    },
    {
      "cell_type": "code",
      "source": [
        "req.status_code"
      ],
      "metadata": {
        "colab": {
          "base_uri": "https://localhost:8080/"
        },
        "id": "g0pvL3ewcTUU",
        "outputId": "e9906dae-7d36-451c-ce99-2b1080c0e497"
      },
      "execution_count": null,
      "outputs": [
        {
          "output_type": "execute_result",
          "data": {
            "text/plain": [
              "200"
            ]
          },
          "metadata": {},
          "execution_count": 3
        }
      ]
    },
    {
      "cell_type": "code",
      "source": [
        "req"
      ],
      "metadata": {
        "colab": {
          "base_uri": "https://localhost:8080/"
        },
        "id": "krXuw1tZcTW1",
        "outputId": "7e86bfe8-2e1d-4a4f-e054-3fa773875839"
      },
      "execution_count": null,
      "outputs": [
        {
          "output_type": "execute_result",
          "data": {
            "text/plain": [
              "<Response [200]>"
            ]
          },
          "metadata": {},
          "execution_count": 4
        }
      ]
    },
    {
      "cell_type": "code",
      "source": [
        "# Getting live data\n",
        "soup = BeautifulSoup(req.content)"
      ],
      "metadata": {
        "id": "UGWlcB-bcTZI"
      },
      "execution_count": null,
      "outputs": []
    },
    {
      "cell_type": "code",
      "source": [
        "# This is live data\n",
        "soup.prettify()"
      ],
      "metadata": {
        "id": "07CGrPV_cTbM"
      },
      "execution_count": null,
      "outputs": []
    },
    {
      "cell_type": "code",
      "source": [
        "soup"
      ],
      "metadata": {
        "id": "eUCGNM7bcTdb"
      },
      "execution_count": null,
      "outputs": []
    },
    {
      "cell_type": "code",
      "source": [
        "# Only give td tag\n",
        "# List comprehension\n",
        "arr = [i for i in soup.findAll('td')]"
      ],
      "metadata": {
        "id": "dX1u5uDNcTfX"
      },
      "execution_count": null,
      "outputs": []
    },
    {
      "cell_type": "code",
      "source": [
        "arr"
      ],
      "metadata": {
        "id": "6SYbW4aKcThp"
      },
      "execution_count": null,
      "outputs": []
    },
    {
      "cell_type": "code",
      "source": [
        "arr[0]"
      ],
      "metadata": {
        "colab": {
          "base_uri": "https://localhost:8080/"
        },
        "id": "KLvx4GdTcTkJ",
        "outputId": "be7fe59d-0965-420d-ca37-60457bbc6322"
      },
      "execution_count": null,
      "outputs": [
        {
          "output_type": "execute_result",
          "data": {
            "text/plain": [
              "<td><i><b><a href=\"/wiki/Everything_Everywhere_All_at_Once\" title=\"Everything Everywhere All at Once\">Everything Everywhere All at Once</a></b></i></td>"
            ]
          },
          "metadata": {},
          "execution_count": 10
        }
      ]
    },
    {
      "cell_type": "markdown",
      "source": [
        "# Cleaning the data using Regular Expression (RegEx)"
      ],
      "metadata": {
        "id": "yK4M9qQ6i6Uy"
      }
    },
    {
      "cell_type": "code",
      "source": [
        "# 2nd Param is for replacing -> Here replace with empty\n",
        "# typecase(str) -> Html is the raw file\n",
        "# 1 Case\n",
        "re.sub('^<td>.*\">|</a>.*</td>', '', str(arr[0]))"
      ],
      "metadata": {
        "colab": {
          "base_uri": "https://localhost:8080/",
          "height": 36
        },
        "id": "XpB5JtoIi5Ek",
        "outputId": "b7c0f7f3-b414-4e3e-de35-755f0eeb18e0"
      },
      "execution_count": null,
      "outputs": [
        {
          "output_type": "execute_result",
          "data": {
            "text/plain": [
              "'Everything Everywhere All at Once'"
            ],
            "application/vnd.google.colaboratory.intrinsic+json": {
              "type": "string"
            }
          },
          "metadata": {},
          "execution_count": 52
        }
      ]
    },
    {
      "cell_type": "code",
      "source": [
        "# Or\n",
        "re.sub('^<td>.*\">|<.*>', '', str(arr[1]))"
      ],
      "metadata": {
        "colab": {
          "base_uri": "https://localhost:8080/",
          "height": 36
        },
        "id": "e-Mq-8mqlaOf",
        "outputId": "2ce21eaa-895b-4244-b3a0-ef22023a2ff9"
      },
      "execution_count": null,
      "outputs": [
        {
          "output_type": "execute_result",
          "data": {
            "text/plain": [
              "'2022'"
            ],
            "application/vnd.google.colaboratory.intrinsic+json": {
              "type": "string"
            }
          },
          "metadata": {},
          "execution_count": 12
        }
      ]
    },
    {
      "cell_type": "code",
      "source": [
        "arr[2]"
      ],
      "metadata": {
        "colab": {
          "base_uri": "https://localhost:8080/"
        },
        "id": "-FK4T6WAmgZl",
        "outputId": "f70ae380-1006-4b45-b2c0-1c973a7428d7"
      },
      "execution_count": null,
      "outputs": [
        {
          "output_type": "execute_result",
          "data": {
            "text/plain": [
              "<td>7</td>"
            ]
          },
          "metadata": {},
          "execution_count": 13
        }
      ]
    },
    {
      "cell_type": "code",
      "source": [
        "# Or\n",
        "re.sub('^<td>.*\">|<td>|</d>|<.*>', '', str(arr[2]))"
      ],
      "metadata": {
        "colab": {
          "base_uri": "https://localhost:8080/",
          "height": 36
        },
        "id": "aBrUvzZDmdQm",
        "outputId": "43dba97c-3193-42a4-957c-c20fba65bfcf"
      },
      "execution_count": null,
      "outputs": [
        {
          "output_type": "execute_result",
          "data": {
            "text/plain": [
              "'7'"
            ],
            "application/vnd.google.colaboratory.intrinsic+json": {
              "type": "string"
            }
          },
          "metadata": {},
          "execution_count": 14
        }
      ]
    },
    {
      "cell_type": "code",
      "source": [
        "# Or\n",
        "re.sub('^<td>.*\">|<td>|</d>|<.*>|\\n', '', str(arr[3]))"
      ],
      "metadata": {
        "colab": {
          "base_uri": "https://localhost:8080/",
          "height": 36
        },
        "id": "BKbQ7b3QkRNT",
        "outputId": "e382848c-05f2-4a4e-8d69-be30bfdbde88"
      },
      "execution_count": null,
      "outputs": [
        {
          "output_type": "execute_result",
          "data": {
            "text/plain": [
              "'11'"
            ],
            "application/vnd.google.colaboratory.intrinsic+json": {
              "type": "string"
            }
          },
          "metadata": {},
          "execution_count": 15
        }
      ]
    },
    {
      "cell_type": "code",
      "source": [
        "# Or\n",
        "re.sub('^<td>.*\">|<td>|</d>|<.*>|\\n', '', str(arr[4]))\n",
        "# After this patterns is repeating"
      ],
      "metadata": {
        "colab": {
          "base_uri": "https://localhost:8080/",
          "height": 36
        },
        "id": "XNEe-IpZnxLS",
        "outputId": "da8bf8c7-6184-4a95-b71b-18db1795a797"
      },
      "execution_count": null,
      "outputs": [
        {
          "output_type": "execute_result",
          "data": {
            "text/plain": [
              "'All Quiet on the Western Front'"
            ],
            "application/vnd.google.colaboratory.intrinsic+json": {
              "type": "string"
            }
          },
          "metadata": {},
          "execution_count": 16
        }
      ]
    },
    {
      "cell_type": "code",
      "source": [
        "# Store the info in the array\n",
        "Film =[]\n",
        "Year = []\n",
        "Award = []\n",
        "Nomination = []"
      ],
      "metadata": {
        "id": "odF4nKrBcTnW"
      },
      "execution_count": null,
      "outputs": []
    },
    {
      "cell_type": "code",
      "source": [
        "count = 0"
      ],
      "metadata": {
        "id": "ciqAMFstcTqM"
      },
      "execution_count": null,
      "outputs": []
    },
    {
      "cell_type": "code",
      "source": [
        "# Logic -> All case\n",
        "for i in soup('td'):\n",
        "  new_i = re.sub('^<td>.*\">|<td>|</d>|<.*>|\\n|', '', str(i))\n",
        "  if count == 0:\n",
        "    Film.append(new_i)\n",
        "    count += 1\n",
        "  elif count == 1:\n",
        "    Year.append(new_i)\n",
        "    count += 1\n",
        "  elif count == 2:\n",
        "    Award.append(new_i)\n",
        "    count += 1\n",
        "  else:\n",
        "    Nomination.append((new_i))\n",
        "    count = 0"
      ],
      "metadata": {
        "id": "DOfp85OfcTtA"
      },
      "execution_count": null,
      "outputs": []
    },
    {
      "cell_type": "code",
      "source": [
        "print(Film, Year, Award, Nomination)"
      ],
      "metadata": {
        "colab": {
          "base_uri": "https://localhost:8080/"
        },
        "id": "gt8Z4j0zcTvv",
        "outputId": "26a8581e-65c3-45d3-e75e-700c1b762be5"
      },
      "execution_count": null,
      "outputs": [
        {
          "output_type": "stream",
          "name": "stdout",
          "text": [
            "['Everything Everywhere All at Once', 'All Quiet on the Western Front', 'The Whale', 'Top Gun: Maverick', 'Black Panther: Wakanda Forever', 'Avatar: The Way of Water', 'Women Talking', \"Guillermo del Toro's Pinocchio\", ' Navalny', 'The Elephant Whisperers', 'An Irish Goodbye', ' The Boy, the Mole, the Fox and the Horse', ' RRR', 'CODA', 'Dune', ' The Eyes of Tammy Faye', 'No Time to Die', 'The Windshield Wiper', ' The Long Goodbye', 'The Queen of Basketball', 'Summer of Soul', ' Drive My Car', 'Encanto', ' West Side Story', ' Belfast', ' The Power of the Dog', ' King Richard', 'Cruella', 'Nomadland', 'The Father', 'Judas and the Black Messiah', 'Minari', 'Mank', 'Sound of Metal', \"Ma Rainey's Black Bottom\", 'Promising Young Woman', 'Tenet', 'Soul', 'Another Round', 'My Octopus Teacher', 'Colette', 'If Anything Happens I Love You', 'Two Distant Strangers', 'Parasite', 'Ford v Ferrari', \"Learning to Skateboard in a Warzone (If You're a Girl)\", \"The Neighbors' Window\", 'Little Women', 'Marriage Story', 'Jojo Rabbit', 'Toy Story 4', 'Joker', 'Once Upon a Time in Hollywood', '1917', 'Judy', 'Bombshell', 'Rocketman', 'American Factory', 'Hair Love', 'Green Book', 'Bohemian Rhapsody', 'Roma', 'Black Panther', 'The Favourite', 'A Star Is Born', 'Vice', 'BlacKkKlansman', 'First Man', 'If Beale Street Could Talk', 'Bao', 'Free Solo', 'Period. End of Sentence.', 'Skin', 'Spider-Man: Into the Spider-Verse', 'The Shape of Water', 'Dunkirk', 'Three Billboards Outside Ebbing, Missouri', 'Darkest Hour', 'Blade Runner 2049', 'Coco', 'Phantom Thread', 'Call Me by Your Name', 'Get Out', 'I, Tonya', 'Dear Basketball', 'A Fantastic Woman', 'Heaven Is a Traffic Jam on the 405', 'Icarus', 'The Silent Child', 'Flesh and Sand', 'Moonlight', 'La La Land', 'Hacksaw Ridge', 'Manchester by the Sea', 'Arrival', 'Fences', 'Fantastic Beasts and Where to Find Them', 'The Jungle Book', 'O.J.: Made in America', 'Piper', 'The Salesman', 'Sing', 'Suicide Squad', 'The White Helmets', 'Zootopia', 'Spotlight', 'Mad Max: Fury Road', 'The Revenant', 'Bridge of Spies', 'The Big Short', 'The Danish Girl', 'Room', 'The Hateful Eight', 'Ex Machina', 'Inside Out', 'Amy', 'Bear Story', 'A Girl in the River: The Price of Forgiveness', 'Son of Saul', 'Spectre', 'Stutterer', 'Birdman or (The Unexpected Virtue of Ignorance)', 'The Grand Budapest Hotel', 'Whiplash', 'The Imitation Game', 'American Sniper', 'Boyhood', 'Interstellar', 'The Theory of Everything', 'Ida', 'Selma', 'Citizenfour', 'Big Hero 6', 'Crisis Hotline: Veterans Press 1', 'The Phone Call', 'Still Alice', 'Feast', '12 Years a Slave', 'Gravity', 'Dallas Buyers Club', 'Frozen', 'The Great Gatsby', 'Her', 'Blue Jasmine', 'Mr Hublot', 'The Lady in Number 6', 'Helium', 'The Great Beauty', '20 Feet from Stardom', 'Argo', 'Life of Pi', 'Les Misérables', 'Lincoln', 'Django Unchained', 'Skyfall', 'Silver Linings Playbook', 'Zero Dark Thirty', 'Amour', 'Anna Karenina', 'Paperman', 'Brave', 'Searching for Sugar Man', 'Inocente', 'Curfew', 'The Artist', 'Hugo', 'The Iron Lady', 'The Descendants', 'The Girl with the Dragon Tattoo', 'Midnight in Paris', 'The Help', 'A Separation', 'The Fantastic Flying Books of Mr. Morris Lessmore', 'The Shore', 'Undefeated', 'The Muppets', 'Saving Face', 'Beginners', 'Rango', \"The King's Speech\", 'Inception', 'The Social Network', 'The Fighter', 'Toy Story 3', 'Alice in Wonderland', 'Black Swan', 'In a Better World', 'The Lost Thing', 'God of Love', 'The Wolfman', 'Strangers No More', 'Inside Job', 'The Hurt Locker', 'Avatar', 'Precious', 'Up', 'Crazy Heart', 'Inglourious Basterds', 'Star Trek', 'The Young Victoria', 'The Blind Side', 'Music by Prudence', 'The Secret in Their Eyes', 'The Cove', 'The New Tenants', 'Logorama', 'Slumdog Millionaire', 'The Curious Case of Benjamin Button', 'Milk', 'The Dark Knight', 'WALL-E', 'The Reader', 'The Duchess', 'Departures', 'Vicky Cristina Barcelona', 'Smile Pinki', 'Man on Wire', 'Toyland', 'La Maison en Petits Cubes', 'No Country for Old Men', 'The Bourne Ultimatum', 'There Will Be Blood', 'La Vie en rose', 'Atonement', 'Michael Clayton', 'Ratatouille', 'Juno', 'Sweeney Todd: The Demon Barber of Fleet Street', 'The Golden Compass', 'Elizabeth: The Golden Age', 'Taxi to the Dark Side', 'Peter &amp; the Wolf', 'Once', 'Le Mozart des pickpockets', 'The Counterfeiters', 'Freeheld', 'The Departed', \"Pan's Labyrinth\", 'Dreamgirls', 'Little Miss Sunshine', 'An Inconvenient Truth', 'Babel', 'The Queen', 'Letters from Iwo Jima', \"Pirates of the Caribbean: Dead Man's Chest\", 'The Danish Poet', 'Happy Feet', 'The Last King of Scotland', 'The Lives of Others', 'Marie Antoinette', 'West Bank Story', 'The Blood of Yingzhou District', 'Crash', 'Brokeback Mountain', 'Memoirs of a Geisha', 'King Kong', 'Capote', 'Walk the Line', 'The Constant Gardener', 'The Chronicles of Narnia: The Lion, the Witch and the Wardrobe', 'Hustle &amp; Flow', 'Syriana', 'March of the Penguins', 'Six Shooter', 'The Moon and the Son: An Imagined Conversation', 'A Note of Triumph: The Golden Age of Norman Corwin', 'Tsotsi', 'Wallace &amp; Gromit: The Curse of the Were-Rabbit', 'Million Dollar Baby', 'The Aviator', 'Ray', 'The Incredibles', 'Finding Neverland', 'Sideways', \"Lemony Snicket's A Series of Unfortunate Events\", 'Spider-Man 2', 'Eternal Sunshine of the Spotless Mind', 'The Motorcycle Diaries', 'The Sea Inside', 'Born into Brothels', \"Mighty Times: The Children's March\", 'Wasp', 'Ryan', 'The Lord of the Rings: The Return of the King', 'Master and Commander: The Far Side of the World', 'Mystic River', 'Cold Mountain', 'Lost in Translation', 'Finding Nemo', 'The Barbarian Invasions', 'Two Soldiers', 'Monster', 'Harvie Krumpet', 'Chernobyl Heart', 'The Fog of War', 'Chicago', 'The Pianist', 'The Lord of the Rings: The Two Towers', 'Frida', 'The Hours', 'Road to Perdition', 'Adaptation', 'Talk to Her', 'This Charming Man', 'Spirited Away', 'Nowhere in Africa', 'The ChubbChubbs!', 'Twin Towers', 'Bowling for Columbine', '8 Mile', 'A Beautiful Mind', 'The Lord of the Rings: The Fellowship of the Ring', 'Moulin Rouge!', 'Black Hawk Down', 'Gosford Park', 'Monsters, Inc.', 'Pearl Harbor', 'Iris', 'Shrek', 'Training Day', \"Monster's Ball\", 'Thoth', 'For the Birds', \"No Man's Land\", 'Murder on a Sunday Morning', 'The Accountant', 'Gladiator', 'Crouching Tiger, Hidden Dragon', 'Traffic', 'Erin Brockovich', 'Almost Famous', 'Wonder Boys', 'How the Grinch Stole Christmas', 'U-571', 'Pollock', 'Father and Daughter', 'Into the Arms of Strangers: Stories of the Kindertransport', 'Quiero ser (I want to be...)', 'Big Mama', 'American Beauty', 'The Matrix', 'The Cider House Rules', 'Topsy-Turvy', 'Sleepy Hollow', \"Boys Don't Cry\", 'Tarzan', 'One Day in September', 'The Red Violin', 'The Old Man and the Sea', \"My Mother Dreams the Satan's Disciples in New York\", 'King Gimp', 'Girl, Interrupted', 'All About My Mother', 'Shakespeare in Love', 'Saving Private Ryan', 'Life Is Beautiful', 'Elizabeth', 'Gods and Monsters', 'The Prince of Egypt', 'Affliction', 'What Dreams May Come', 'The Personals', 'The Last Days', 'Election Night', 'Bunny', 'Titanic', 'Good Will Hunting', 'L.A. Confidential', 'As Good as It Gets', 'The Full Monty', 'Men in Black', 'Visas and Virtue', 'Character', \"Geri's Game\", 'A Story of Healing', 'The Long Way Home', 'The English Patient', 'Fargo', 'Shine', 'Evita', 'Jerry Maguire', 'Independence Day', 'Emma', 'Sling Blade', 'The Ghost and the Darkness', 'Kolya', 'The Nutty Professor', 'Quest', 'When We Were Kings', \"Breathing Lessons: The Life and Work of Mark O'Brien\", 'Dear Diary', 'Braveheart', 'Apollo 13', 'Pocahontas', 'The Usual Suspects', 'Restoration', 'Babe', 'Sense and Sensibility', 'Il Postino: The Postman', 'Dead Man Walking', 'Leaving Las Vegas', 'Mighty Aphrodite', 'Anne Frank Remembered', 'A Close Shave', 'Lieberman in Love', 'One Survivor Remembers', \"Antonia's Line\", 'Toy Story', 'Forrest Gump', 'The Lion King', 'Speed', 'Ed Wood', 'Pulp Fiction', 'Bullets Over Broadway', 'The Madness of King George', 'Legends of the Fall', 'A Time for Justice', \"Franz Kafka's It's a Wonderful Life\", 'Maya Lin: A Strong Clear Vision', 'Burnt by the Sun', 'Trevor', 'The Adventures of Priscilla, Queen of the Desert', \"Bob's Birthday\", 'Blue Sky', \"Schindler's List\", 'The Piano', 'Jurassic Park', 'Philadelphia', 'The Fugitive', 'The Age of Innocence', 'The Wrong Trousers', 'Belle Epoque', 'I Am a Promise: The Children of Stanton Elementary School', 'Mrs. Doubtfire', 'Black Rider', 'Defending Our Lives', 'Unforgiven', 'Howards End', \"Bram Stoker's Dracula\", 'Aladdin', 'The Crying Game', 'Scent of a Woman', 'A River Runs Through It', 'Indochine', 'My Cousin Vinny', 'The Panama Deception', 'Educating Peter', 'The Last of the Mohicans', 'Death Becomes Her', 'Omnibus', 'Mona Lisa Descending a Staircase', 'The Silence of the Lambs', 'Terminator 2: Judgment Day', 'Bugsy', 'JFK', 'Beauty and the Beast', 'Thelma &amp; Louise', 'The Fisher King', 'In the Shadow of the Stars', 'Manipulation', 'Mediterraneo', 'Session Man', 'City Slickers', 'Deadly Deception: General Electric, Nuclear Weapons and Our Environment', 'Dances with Wolves', 'Dick Tracy', 'Ghost', 'Goodfellas', 'The Hunt for Red October', 'Reversal of Fortune', 'Cyrano de Bergerac', 'American Dream', 'Journey of Hope', 'Days of Waiting', 'Creature Comforts', 'The Lunch Date', 'Misery', 'Total Recall', 'Driving Miss Daisy', 'Glory', 'Born on the Fourth of July', 'My Left Foot', 'The Little Mermaid', 'Dead Poets Society', 'The Abyss', 'Indiana Jones and the Last Crusade', 'Henry V', 'The Johnstown Flood', 'Common Threads: Stories from the Quilt', 'Cinema Paradiso', 'Work Experience', 'Batman', 'Balance', 'Rain Man', 'Dangerous Liaisons', 'Who Framed Roger Rabbit', 'Mississippi Burning', 'Working Girl', 'The Accidental Tourist', 'A Fish Called Wanda', 'Pelle the Conqueror', 'The Accused', 'The Appointments of Dennis Jennings', 'Beetlejuice', 'Bird', 'Hôtel Terminus: The Life and Times of Klaus Barbie', 'The Milagro Beanfield War', 'Tin Toy', \"You Don't Have to Die\", 'The Last Emperor', 'Moonstruck', 'The Untouchables', \"Babette's Feast\", 'Dirty Dancing', 'Harry and the Hendersons', 'Innerspace', 'The Man Who Planted Trees', \"Ray's Male Heterosexual Dance Hall\", 'The Ten-Year Lunch', 'Wall Street', 'Young at Heart', 'RoboCop', 'Platoon', 'A Room with a View', 'Hannah and Her Sisters', 'Aliens', 'The Mission', 'Children of a Lesser God', 'The Color of Money', 'Top Gun', 'Round Midnight', \"Artie Shaw: Time Is All You've Got\", 'The Assault', 'Down and Out in America', 'The Fly', 'A Greek Tragedy', 'Precious Images', 'Women – for America, for the World', 'Out of Africa', 'Witness', 'Cocoon', \"Prizzi's Honor\", 'Back to the Future', 'Kiss of the Spider Woman', 'Ran', 'The Official Story', 'The Trip to Bountiful', 'White Nights', 'Anna &amp; Bella', 'Broken Rainbow', 'Mask', \"Molly's Pilgrim\", 'Witness to War: Dr. Charlie Clements', 'Amadeus', 'The Killing Fields', 'A Passage to India', 'Places in the Heart', 'Indiana Jones and the Temple of Doom', 'Charade', 'Dangerous Moves', 'Purple Rain', 'The Stone Carvers', 'The Times of Harvey Milk', 'Up', 'The Woman in Red', 'The River', 'Terms of Endearment', 'The Right Stuff', 'Fanny &amp; Alexander', 'Tender Mercies', 'Yentl', 'Flashdance', 'Boys and Girls', 'Flamenco at 5:15', \"He Makes Me Feel Like Dancin'\", 'Sundae in New York', 'The Year of Living Dangerously', 'Return of the Jedi', 'Gandhi', 'E.T.: The Extra-Terrestrial', 'An Officer and a Gentleman', 'Tootsie', 'Victor/Victoria', \"Sophie's Choice\", 'Missing', 'If You Love This Planet', 'Just Another Missing Kid', 'A Shocking Accident', 'Tango', 'To Begin Again', 'Quest for Fire', 'Chariots of Fire', 'Raiders of the Lost Ark', 'Reds', 'On Golden Pond', 'Arthur', 'An American Werewolf in London', 'Close Harmony', 'Crac', 'Genocide', 'Mephisto', 'Violet', 'Ordinary People', 'Tess', 'Raging Bull', 'Fame', 'Melvin and Howard', \"Coal Miner's Daughter\", 'The Empire Strikes Back', 'The Dollar Bottom', 'The Fly', 'From Mao to Mozart: Isaac Stern in China', 'Karl Hess: Toward Liberty', 'Moscow Does Not Believe in Tears', 'Kramer vs. Kramer', 'All That Jazz', 'Apocalypse Now', 'Norma Rae', 'Breaking Away', 'Alien', 'Being There', 'A Little Romance', 'Best Boy', 'Board and Care', 'Every Child', 'Paul Robeson: Tribute to an Artist', 'The Tin Drum', 'The Black Stallion', 'The Deer Hunter', 'Coming Home', 'Midnight Express', 'Heaven Can Wait', 'Days of Heaven', 'California Suite', 'The Buddy Holly Story', 'Death on the Nile', 'The Flight of the Gossamer Condor', 'Get Out Your Handkerchiefs', 'Scared Straight!', 'Special Delivery', 'Teenage Father', \"Thank God It's Friday\", 'Superman', 'Annie Hall', 'Star Wars', 'Julia', 'Close Encounters of the Third Kind', 'The Goodbye Girl', 'A Little Night Music', 'Gravity Is My Enemy', \"I'll Find a Way\", 'Madame Rosa', 'The Sand Castle', 'Who Are the DeBolts? And Where Did They Get Nineteen Kids?', 'You Light Up My Life', 'Rocky', 'Network', \"All the President's Men\", 'Bound for Glory', 'A Star Is Born', \"Fellini's Casanova\", 'The Omen', 'Black and White in Color', 'Harlan County, USA', 'In the Region of Ice', 'Leisure', 'Number Our Days', 'King Kong', \"Logan's Run\", \"One Flew Over the Cuckoo's Nest\", 'Barry Lyndon', 'Jaws', 'Dog Day Afternoon', 'Nashville', 'Shampoo', 'The Sunshine Boys', 'Angel and Big Joe', 'Dersu Uzala', 'The End of the Game', 'Great', 'The Man Who Skied Down Everest', 'The Hindenburg', 'The Godfather: Part II', 'The Towering Inferno', 'The Great Gatsby', 'Chinatown', 'Murder on the Orient Express', 'Earthquake', \"Alice Doesn't Live Here Anymore\", 'Amarcord', 'Harry and Tonto', 'Closed Mondays', \"Don't\", 'Hearts and Minds', 'One-Eyed Men Are Kings', 'The Sting', 'The Exorcist', 'The Way We Were', 'Cries and Whispers', 'A Touch of Class', 'Day for Night', 'Paper Moon', 'The Paper Chase', 'Save the Tiger', 'The Bolero', 'Frank Film', 'The Great American Cowboy', 'Princeton: A Search for Answers', 'The Godfather', 'Cabaret', 'The Poseidon Adventure', 'Travels with My Aunt', 'Butterflies Are Free', 'The Candidate', 'The Discreet Charm of the Bourgeoisie', 'A Christmas Carol', 'Limelight', 'Marjoe', \"Norman Rockwell's World... An American Dream\", 'This Tiny World', 'The French Connection', 'Fiddler on the Roof', 'The Last Picture Show', 'Nicholas and Alexandra', 'Sentinels of Silence', 'Bedknobs and Broomsticks', \"Summer of '42\", 'The Garden of the Finzi-Continis', 'The Hospital', 'Klute', 'Shaft', 'The Crunch Bird', 'The Hellstrom Chronicle', 'Patton', \"Ryan's Daughter\", 'Airport', 'Love Story', 'M*A*S*H', 'Tora! Tora! Tora!', 'Women in Love', 'Lovers and Other Strangers', 'Woodstock', 'Cromwell', 'Investigation of a Citizen Above Suspicion', 'Interviews with My Lai Veterans', 'Is It Always Right to Be Right?', 'Let It Be', 'The Resurrection of Broncho Billy', 'Midnight Cowboy', 'Butch Cassidy and the Sundance Kid', 'Hello, Dolly!', 'Z', 'Anne of the Thousand Days', \"They Shoot Horses, Don't They?\", 'Marooned', 'The Magic Machines', 'The Prime of Miss Jean Brodie', 'True Grit', 'Arthur Rubinstein – The Love of Life', 'Cactus Flower', 'Czechoslovakia 1968', \"It's Tough to Be a Bird\", 'Oliver!', 'The Lion in Winter', 'Romeo and Juliet', 'Funny Girl', '2001: A Space Odyssey', 'Bullitt', 'The Producers', \"Rosemary's Baby\", 'The Subject Was Roses', 'The Thomas Crown Affair', 'War and Peace', 'Charly', 'Journey into Self', 'Robert Kennedy Remembered', 'Why Man Creates', 'Winnie the Pooh and the Blustery Day', 'Planet of the Apes', 'In the Heat of the Night', 'Camelot', 'Bonnie and Clyde', \"Guess Who's Coming to Dinner\", 'Doctor Dolittle', 'The Graduate', 'Thoroughly Modern Millie', 'Cool Hand Luke', 'The Dirty Dozen', 'A Place to Stand', 'The Anderson Platoon', 'The Box', 'Closely Watched Trains', 'The Redwoods', 'A Man for All Seasons', \"Who's Afraid of Virginia Woolf?\", 'Grand Prix', 'Fantastic Voyage', 'A Man and a Woman', 'Born Free', 'The Fortune Cookie', 'A Funny Thing Happened on the Way to the Forum', 'A Herb Alpert and the Tijuana Brass Double Feature', 'The War Game', 'Wild Wings', 'A Year Toward Tomorrow', 'The Sound of Music', 'Doctor Zhivago', 'Darling', 'Ship of Fools', 'Cat Ballou', 'The Great Race', 'A Patch of Blue', 'A Thousand Clowns', 'The Shop on Main Street', 'The Sandpiper', 'The Eleanor Roosevelt Story', 'To Be Alive!', '7 Faces of Dr. Lao', '7th Heaven', '20,000 Leagues Under the Sea', 'Adventures of Don Juan', 'The Adventures of Robin Hood', 'The African Queen', 'Air Force', 'The Alamo', 'The Alaskan Eskimo', 'Albert Schweitzer', \"Alexander's Ragtime Band\", 'All About Eve', 'All Quiet on the Western Front', 'All That Money Can Buy', \"All the King's Men\", 'Ama Girls', 'America America', 'An American in Paris', 'Amphibious Fighters', 'Anastasia', 'Anchors Aweigh', 'Anna and the King of Siam', 'Annie Get Your Gun', 'Anthony Adverse', 'The Apartment', 'Aquatic House Party', 'Arise, My Love', 'Around the World in 80 Days', 'The Awful Truth', 'The Bachelor and the Bobby-Soxer', 'The Bad and the Beautiful', 'Bad Girl', 'The Barefoot Contessa', 'The Battle of Midway', 'Battleground', 'Bear Country', 'Becket', \"The Bells of St. Mary's\", 'Ben-Hur', 'Benjy', 'The Bespoke Overcoat', 'The Best Years of Our Lives', 'Beyond the Line of Duty', 'Bicycle Thieves', 'The Big Broadcast of 1938', 'The Big Country', 'The Big House', 'Bill and Coo', 'Birds Anonymous', \"The Bishop's Wife\", 'Black Fox: The Rise and Fall of Adolf Hitler', 'Black Narcissus', 'Black Orpheus', 'The Black Swan', 'Blithe Spirit', 'Blood and Sand', 'Blood on the Sun', 'Blossoms in the Dust', 'Body and Soul', 'Bored of Education', 'Born Yesterday', 'A Boy and His Dog', 'Boys Town', 'The Brave One', \"Breakfast at Tiffany's\", 'Breaking the Sound Barrier', 'The Bridge of San Luis Rey', 'The Bridge on the River Kwai', 'The Bridges at Toko-Ri', 'Broadway Melody of 1936', 'The Broadway Melody', 'Broken Lance', 'Busy Little Bears', 'BUtterfield 8', 'Calamity Jane', 'Call Me Madam', 'Captain Carey, U.S.A.', 'Captains Courageous', 'Casablanca', 'Casals Conducts: 1964', 'The Cat Concerto', 'Cavalcade', 'Chagall', 'The Champ', 'Champion', 'A Chance to Live', 'The Charge of the Light Brigade', 'The Chicken', \"Churchill's Island\", 'Cimarron', 'The Circus', 'Citizen Kane', 'City of Wax', 'Cleopatra', 'Cleopatra', 'Climbing the Matterhorn', 'Come and Get It', 'Come Back, Little Sheba', 'Coquette', 'The Country Cousin', 'The Country Girl', 'Cover Girl', 'The Cowboy and the Lady', 'Crash Dive', 'Crashing the Water Barrier', 'The Critic', 'La Cucaracha', 'Cyrano de Bergerac', 'A Damsel in Distress', 'Dangerous', 'The Dark Angel', 'The Dawn Patrol', 'Day of the Painter', 'Daybreak in Udi', 'Days of Wine and Roses', 'December 7th', 'Declaration of Independence', 'The Defiant Ones', \"Der Fuehrer's Face\", 'Desert Victory', 'Design for Death', 'Designing Woman', 'Destination Moon', 'The Diary of Anne Frank', 'Disraeli', 'The Divine Lady', 'Divorce Italian Style', 'The Divorcee', 'Dodsworth', 'The Dot and the Line', 'A Double Life', 'The Dove', 'Dr. Jekyll and Mr. Hyde', 'Dumbo', 'Dylan Thomas', 'East of Eden', 'Easter Parade', 'Elmer Gantry', 'The Enemy Below', 'Eskimo', 'Exodus', 'The Face of Lincoln', 'Facing Your Danger', 'The Facts of Life', 'Fantasia', 'A Farewell to Arms', \"The Farmer's Daughter\", 'Father Goose', \"Federico Fellini's 8½\", 'Ferdinand the Bull', 'The Fighting Lady', 'First Steps', 'Flowers and Trees', 'Folies Bergere', 'For Scent-imental Reasons', 'For Whom the Bell Tolls', 'Forbidden Games', '', 'A Free Soul', \"Frenchman's Creek\", 'From Here to Eternity', 'The Garden of Allah', 'Gaslight', 'Gate of Hell', 'The Gay Divorcee', \"Gentleman's Agreement\", 'Gerald McBoing-Boing', 'Giant', 'Gigi', 'Giuseppina', 'Give Me Liberty', 'Glass', 'The Glenn Miller Story', 'Going My Way', 'Gold Diggers of 1935', 'The Golden Fish', 'Goldfinger', 'Gone with the Wind', 'The Good Earth', 'Goodbye, Miss Turlock', 'Goodbye, Mr. Chips', 'Grand Canyon', 'Grand Hotel', 'Grandad of Races', 'The Grapes of Wrath', 'The Great Caruso', 'Great Expectations', 'The Great Lie', 'The Great McGinty', 'The Great Waltz', 'The Great Ziegfeld', 'The Greatest Show on Earth', 'Green Dolphin Street', 'The Guns of Navarone', 'Hamlet', 'Happy Anniversary', 'Harvey', 'The Harvey Girls', 'Heavenly Music', 'The Heiress', 'Helen Keller in Her Story', 'Hello, Frisco, Hello', 'Henry V', 'Here Comes Mr. Jordan', 'Here Comes the Groom', 'The High and the Mighty', 'High Noon', 'Hitler Lives', 'A Hole in the Head', 'The Hole', 'Holiday Inn', 'The Horse with the Flying Tail', 'The House I Live In', 'The House on 92nd Street', 'How Green Was My Valley', 'How the West Was Won', 'How to Sleep', 'Hud', 'The Human Comedy', 'The Hurricane', 'The Hustler', 'I Want to Live!', 'I Wanted Wings', \"I Won't Play\", \"I'll Cry Tomorrow\", 'In Beaver Valley', 'In Old Arizona', 'In Old Chicago', 'In Which We Serve', 'The Informer', 'Interrupted Melody', 'The Invaders', 'Irma la Douce', 'It Happened One Night', \"It's a Mad, Mad, Mad, Mad World\", 'The Jazz Singer', 'Jezebel', 'Joan of Arc', 'Johann Mouse', 'Johnny Belinda', 'Johnny Eager', 'The Joker Is Wild', 'The Jolson Story', 'Judgment at Nuremberg', 'Julius Caesar', 'Kentucky', 'Key Largo', 'The King and I', 'King of Jazz', \"King Solomon's Mines\", 'Kitty Foyle', 'Knighty Knight Bugs', 'Kokoda Front Line!', 'Kon-Tiki', 'Krakatoa', 'Kukan', 'La Strada', 'La Dolce Vita', 'Lady Be Good', 'The Last Command', 'Laura', 'The Lavender Hill Mob', 'Lawrence of Arabia', 'Leave Her to Heaven', 'Lend a Paw', 'Les Girls', 'A Letter to Three Wives', 'The Life of Emile Zola', 'Light in the Window', 'Lili', 'Lilies of the Field', 'The Little Kidnappers', 'The Little Orphan', 'Little Women', 'Little Women', 'The Lives of a Bengal Lancer', 'The Living Desert', 'The Longest Day', 'Lost Horizon', 'The Lost Weekend', 'Love Is a Many-Splendored Thing', 'Love Me or Leave Me', 'Lust for Life', \"Magoo's Puddle Jumper\", 'Main Street on the March!', 'The Man Who Knew Too Much', 'Manhattan Melodrama', 'Marie-Louise', 'Marty', 'Mary Poppins', 'Men Against the Arctic', 'The Merry Widow', \"A Midsummer Night's Dream\", 'Mighty Joe Young', 'Mildred Pierce', 'The Milky Way', 'Min and Bill', 'Miracle on 34th Street', 'The Miracle Worker', 'Mister Roberts', 'Monsieur Vincent', 'Moonbird', 'The More the Merrier', 'Morning Glory', 'Moscow Strikes Back', 'Mother Wore Tights', 'Moulin Rouge', 'Mouse Trouble', 'Mr. Deeds Goes to Town', 'Mr. Smith Goes to Washington', 'Mrs. Miniver', 'Munro', 'The Music Box', 'The Music Man', 'Mutiny on the Bounty', 'My Fair Lady', 'My Uncle', 'My Gal Sal', 'The Naked City', 'National Velvet', \"Nature's Half Acre\", 'Naughty Marietta', 'Neighbours', \"Neptune's Daughter\", 'Never on Sunday', 'The Night of the Iguana', 'Nights of Cabiria', 'Nine from Little Rock', 'None But the Lonely Heart', 'North West Mounted Police', 'Now, Voyager', 'An Occurrence at Owl Creek Bridge', 'Of Pups and Puzzles', 'Oklahoma!', 'The Old Man and the Sea', 'The Old Mill', 'On the Town', 'On the Waterfront', 'One Hundred Men and a Girl', 'One Night of Love', 'One Way Passage', 'Overture to The Merry Wives of Windsor', 'The Paleface', 'Panic in the Streets', \"Papa's Delicate Condition\", 'The Patriot', 'Penny Wisdom', 'Phantom of the Opera', 'The Philadelphia Story', 'Picnic', 'The Picture of Dorian Gray', 'Pillow Talk', 'The Pink Phink', 'Pinocchio', 'A Place in the Sun', 'Plymouth Adventure', 'Pollyanna', 'Porgy and Bess', 'Portrait of Jennie', 'Prelude to War', 'Pride and Prejudice', 'The Pride of the Yankees', \"Princess O'Rourke\", 'The Private Life of Henry VIII', 'The Private Life of the Gannets', 'Project Hope', 'The Public Pays', 'Pygmalion', \"Quicker'n a Wink\", 'The Quiet Man', 'Quiet Please!', 'The Rains Came', 'Rashomon', \"The Razor's Edge\", 'Reap the Wild Wind', 'Rebecca', 'The Red Balloon', 'The Red Shoes', 'The Robe', \"Robert Frost: A Lover's Quarrel with the World\", 'Roman Holiday', 'Room at the Top', 'The Rose Tattoo', 'Sabrina', 'Samson and Delilah', 'Samurai I: Musashi Miyamoto', 'San Francisco', 'Sayonara', 'The Scoundrel', 'The Sea Around Us', 'Seal Island', 'The Search', 'Seawards the Great Ships', 'The Secret Land', 'Seeds of Destiny', 'Separate Tables', 'Serengeti Shall Not Die', 'Sergeant York', 'Seven Brides for Seven Brothers', 'Seven Days to Noon', 'The Seventh Veil', 'Shane', 'Shanghai Express', 'She Wore a Yellow Ribbon', 'Shoeshine', 'The Silent World', 'The Sin of Madelon Claudet', 'Since You Went Away', 'Skippy', 'Sky Above and Mud Beneath', 'The Snake Pit', 'Snow White and the Seven Dwarfs', 'So Much for So Little', 'So This Is Harris!', 'The Solid Gold Cadillac', 'Some Like It Hot', 'Somebody Up There Likes Me', 'The Song of Bernadette', 'Song of the South', 'Song Without End', 'Sons and Lovers', 'Sons of Liberty', 'South Pacific', 'Spartacus', 'Spawn of the North', 'Speaking of Animals and Their Families', 'Speedy Gonzales', 'Spellbound', 'Splendor in the Grass', 'Stagecoach', 'Stairway to Light', 'Stalag 17', 'Star in the Night', 'A Star Is Born', 'State Fair', 'The Story of Louis Pasteur', 'The Stratton Story', 'Street Angel', 'A Streetcar Named Desire', 'Strike Up the Band', 'The Substitute', 'Sundays and Cybele', 'Sunrise', 'Sunset Boulevard', 'Survival City', 'Suspicion', 'Sweet Bird of Youth', 'Sweethearts', 'Swing Time', 'Symphony of a City', 'Tabu', 'Target for Tonight', 'Teddy, the Rough Rider', 'Tempest', 'The Ten Commandments', 'That Hamilton Woman', 'That Mothers Might Live', 'The Thief of Bagdad', 'The Third Man', 'Thirty Seconds Over Tokyo', 'This Above All', 'This Is the Army', 'This Land Is Mine', 'This Mechanical Age', 'Three Coins in the Fountain', 'The Three Faces of Eve', 'Three Little Pigs', 'Three Orphan Kittens', 'Through a Glass Darkly', 'Thunderball', \"Thursday's Children\", 'The Time Machine', 'A Time Out of War', 'Tin Pan Alley', 'The Titan: Story of Michelangelo', 'Titanic', 'To Catch a Thief', 'To Each His Own', 'To Kill a Mockingbird', 'Tom Jones', 'tom thumb', 'Toot, Whistle, Plunk and Boom', 'Topkapi', 'The Tortoise and the Hare', 'Torture Money', 'Toward Independence', 'Transatlantic', 'The Treasure of the Sierra Madre', 'A Tree Grows in Brooklyn', 'The True Glory', 'The True Story of the Civil War', 'Tweetie Pie', \"Twelve O'Clock High\", 'Two Arabian Knights', 'The Two Mouseketeers', 'Two Women', 'The Ugly Duckling', 'Underworld', 'The V.I.P.s', 'Vacation from Marriage', 'Van Gogh', 'The Vanishing Prairie', 'The Virgin Spring', 'Viva Villa!', 'Viva Zapata!', 'Waikiki Wedding', 'The Walls of Malapaga', 'The War of the Worlds', 'Watch on the Rhine', 'Water Birds', 'The Way of All Flesh', 'West Side Story', 'The Westerner', 'The Wetback Hound', 'What Ever Happened to Baby Jane?', 'When Tomorrow Comes', 'When Magoo Flew', 'When Worlds Collide', 'White Shadows in the South Seas', 'White Wilderness', \"Who's Who in Animal Land\", 'Why Korea?', 'Wilson', 'Wings', 'Wings Over Everest', 'With a Song in My Heart', 'With Byrd at the South Pole', 'With the Marines at Tarawa', 'The Wizard of Oz', 'Woman of the Year', 'Wonder Man', 'The Wonderful World of the Brothers Grimm', 'World of Kids', 'World Without Sun', 'Wrestling Swordfish', 'Written on the Wind', 'Wuthering Heights', 'Yankee Doodle Dandy', 'The Yankee Doodle Mouse', 'The Yearling', 'Yesterday, Today and Tomorrow', \"You Can't Take It with You\", 'Zorba the Greek', '', '', '', 'Everything Everywhere All at Once', 'All Quiet on the Western Front', 'The Whale', 'Top Gun: Maverick', 'Black Panther: Wakanda Forever', 'Avatar: The Way of Water', 'Women Talking', \"Guillermo del Toro's Pinocchio\", ' Navalny', 'The Elephant Whisperers', 'An Irish Goodbye', ' The Boy, the Mole, the Fox and the Horse', ' RRR', 'CODA', 'Dune', ' The Eyes of Tammy Faye', 'No Time to Die', 'The Windshield Wiper', ' The Long Goodbye', 'The Queen of Basketball', 'Summer of Soul', ' Drive My Car', 'Encanto', ' West Side Story', ' Belfast', ' The Power of the Dog', ' King Richard', 'Cruella', 'Nomadland', 'The Father', 'Judas and the Black Messiah', 'Minari', 'Mank', 'Sound of Metal', \"Ma Rainey's Black Bottom\", 'Promising Young Woman', 'Tenet', 'Soul', 'Another Round', 'My Octopus Teacher', 'Colette', 'If Anything Happens I Love You', 'Two Distant Strangers', 'Parasite', 'Ford v Ferrari', \"Learning to Skateboard in a Warzone (If You're a Girl)\", \"The Neighbors' Window\", 'Little Women', 'Marriage Story', 'Jojo Rabbit', 'Toy Story 4', 'Joker', 'Once Upon a Time in Hollywood', '1917', 'Judy', 'Bombshell', 'Rocketman', 'American Factory', 'Hair Love', 'Green Book', 'Bohemian Rhapsody', 'Roma', 'Black Panther', 'The Favourite', 'A Star Is Born', 'Vice', 'BlacKkKlansman', 'First Man', 'If Beale Street Could Talk', 'Bao', 'Free Solo', 'Period. End of Sentence.', 'Skin', 'Spider-Man: Into the Spider-Verse', 'The Shape of Water', 'Dunkirk', 'Three Billboards Outside Ebbing, Missouri', 'Darkest Hour', 'Blade Runner 2049', 'Coco', 'Phantom Thread', 'Call Me by Your Name', 'Get Out', 'I, Tonya', 'Dear Basketball', 'A Fantastic Woman', 'Heaven Is a Traffic Jam on the 405', 'Icarus', 'The Silent Child', 'Flesh and Sand', 'Moonlight', 'La La Land', 'Hacksaw Ridge', 'Manchester by the Sea', 'Arrival', 'Fences', 'Fantastic Beasts and Where to Find Them', 'The Jungle Book', 'O.J.: Made in America', 'Piper', 'The Salesman', 'Sing', 'Suicide Squad', 'The White Helmets', 'Zootopia', 'Spotlight', 'Mad Max: Fury Road', 'The Revenant', 'Bridge of Spies', 'The Big Short', 'The Danish Girl', 'Room', 'The Hateful Eight', 'Ex Machina', 'Inside Out', 'Amy', 'Bear Story', 'A Girl in the River: The Price of Forgiveness', 'Son of Saul', 'Spectre', 'Stutterer', 'Birdman or (The Unexpected Virtue of Ignorance)', 'The Grand Budapest Hotel', 'Whiplash', 'The Imitation Game', 'American Sniper', 'Boyhood', 'Interstellar', 'The Theory of Everything', 'Ida', 'Selma', 'Citizenfour', 'Big Hero 6', 'Crisis Hotline: Veterans Press 1', 'The Phone Call', 'Still Alice', 'Feast', '12 Years a Slave', 'Gravity', 'Dallas Buyers Club', 'Frozen', 'The Great Gatsby', 'Her', 'Blue Jasmine', 'Mr Hublot', 'The Lady in Number 6', 'Helium', 'The Great Beauty', '20 Feet from Stardom', 'Argo', 'Life of Pi', 'Les Misérables', 'Lincoln', 'Django Unchained', 'Skyfall', 'Silver Linings Playbook', 'Zero Dark Thirty', 'Amour', 'Anna Karenina', 'Paperman', 'Brave', 'Searching for Sugar Man', 'Inocente', 'Curfew', 'The Artist', 'Hugo', 'The Iron Lady', 'The Descendants', 'The Girl with the Dragon Tattoo', 'Midnight in Paris', 'The Help', 'A Separation', 'The Fantastic Flying Books of Mr. Morris Lessmore', 'The Shore', 'Undefeated', 'The Muppets', 'Saving Face', 'Beginners', 'Rango', \"The King's Speech\", 'Inception', 'The Social Network', 'The Fighter', 'Toy Story 3', 'Alice in Wonderland', 'Black Swan', 'In a Better World', 'The Lost Thing', 'God of Love', 'The Wolfman', 'Strangers No More', 'Inside Job', 'The Hurt Locker', 'Avatar', 'Precious', 'Up', 'Crazy Heart', 'Inglourious Basterds', 'Star Trek', 'The Young Victoria', 'The Blind Side', 'Music by Prudence', 'The Secret in Their Eyes', 'The Cove', 'The New Tenants', 'Logorama', 'Slumdog Millionaire', 'The Curious Case of Benjamin Button', 'Milk', 'The Dark Knight', 'WALL-E', 'The Reader', 'The Duchess', 'Departures', 'Vicky Cristina Barcelona', 'Smile Pinki', 'Man on Wire', 'Toyland', 'La Maison en Petits Cubes', 'No Country for Old Men', 'The Bourne Ultimatum', 'There Will Be Blood', 'La Vie en rose', 'Atonement', 'Michael Clayton', 'Ratatouille', 'Juno', 'Sweeney Todd: The Demon Barber of Fleet Street', 'The Golden Compass', 'Elizabeth: The Golden Age', 'Taxi to the Dark Side', 'Peter &amp; the Wolf', 'Once', 'Le Mozart des pickpockets', 'The Counterfeiters', 'Freeheld', 'The Departed', \"Pan's Labyrinth\", 'Dreamgirls', 'Little Miss Sunshine', 'An Inconvenient Truth', 'Babel', 'The Queen', 'Letters from Iwo Jima', \"Pirates of the Caribbean: Dead Man's Chest\", 'The Danish Poet', 'Happy Feet', 'The Last King of Scotland', 'The Lives of Others', 'Marie Antoinette', 'West Bank Story', 'The Blood of Yingzhou District', 'Crash', 'Brokeback Mountain', 'Memoirs of a Geisha', 'King Kong', 'Capote', 'Walk the Line', 'The Constant Gardener', 'The Chronicles of Narnia: The Lion, the Witch and the Wardrobe', 'Hustle &amp; Flow', 'Syriana', 'March of the Penguins', 'Six Shooter', 'The Moon and the Son: An Imagined Conversation', 'A Note of Triumph: The Golden Age of Norman Corwin', 'Tsotsi', 'Wallace &amp; Gromit: The Curse of the Were-Rabbit', 'Million Dollar Baby', 'The Aviator', 'Ray', 'The Incredibles', 'Finding Neverland', 'Sideways', \"Lemony Snicket's A Series of Unfortunate Events\", 'Spider-Man 2', 'Eternal Sunshine of the Spotless Mind', 'The Motorcycle Diaries', 'The Sea Inside', 'Born into Brothels', \"Mighty Times: The Children's March\", 'Wasp', 'Ryan', 'The Lord of the Rings: The Return of the King', 'Master and Commander: The Far Side of the World', 'Mystic River', 'Cold Mountain', 'Lost in Translation', 'Finding Nemo', 'The Barbarian Invasions', 'Two Soldiers', 'Monster', 'Harvie Krumpet', 'Chernobyl Heart', 'The Fog of War', 'Chicago', 'The Pianist', 'The Lord of the Rings: The Two Towers', 'Frida', 'The Hours', 'Road to Perdition', 'Adaptation', 'Talk to Her', 'This Charming Man', 'Spirited Away', 'Nowhere in Africa', 'The ChubbChubbs!', 'Twin Towers', 'Bowling for Columbine', '8 Mile', 'A Beautiful Mind', 'The Lord of the Rings: The Fellowship of the Ring', 'Moulin Rouge!', 'Black Hawk Down', 'Gosford Park', 'Monsters, Inc.', 'Pearl Harbor', 'Iris', 'Shrek', 'Training Day', \"Monster's Ball\", 'Thoth', 'For the Birds', \"No Man's Land\", 'Murder on a Sunday Morning', 'The Accountant', 'Gladiator', 'Crouching Tiger, Hidden Dragon', 'Traffic', 'Erin Brockovich', 'Almost Famous', 'Wonder Boys', 'How the Grinch Stole Christmas', 'U-571', 'Pollock', 'Father and Daughter', 'Into the Arms of Strangers: Stories of the Kindertransport', 'Quiero ser (I want to be...)', 'Big Mama', 'American Beauty', 'The Matrix', 'The Cider House Rules', 'Topsy-Turvy', 'Sleepy Hollow', \"Boys Don't Cry\", 'Tarzan', 'One Day in September', 'The Red Violin', 'The Old Man and the Sea', \"My Mother Dreams the Satan's Disciples in New York\", 'King Gimp', 'Girl, Interrupted', 'All About My Mother', 'Shakespeare in Love', 'Saving Private Ryan', 'Life Is Beautiful', 'Elizabeth', 'Gods and Monsters', 'The Prince of Egypt', 'Affliction', 'What Dreams May Come', 'The Personals', 'The Last Days', 'Election Night', 'Bunny', 'Titanic', 'Good Will Hunting', 'L.A. Confidential', 'As Good as It Gets', 'The Full Monty', 'Men in Black', 'Visas and Virtue', 'Character', \"Geri's Game\", 'A Story of Healing', 'The Long Way Home', 'The English Patient', 'Fargo', 'Shine', 'Evita', 'Jerry Maguire', 'Independence Day', 'Emma', 'Sling Blade', 'The Ghost and the Darkness', 'Kolya', 'The Nutty Professor', 'Quest', 'When We Were Kings', \"Breathing Lessons: The Life and Work of Mark O'Brien\", 'Dear Diary', 'Braveheart', 'Apollo 13', 'Pocahontas', 'The Usual Suspects', 'Restoration', 'Babe', 'Sense and Sensibility', 'Il Postino: The Postman', 'Dead Man Walking', 'Leaving Las Vegas', 'Mighty Aphrodite', 'Anne Frank Remembered', 'A Close Shave', 'Lieberman in Love', 'One Survivor Remembers', \"Antonia's Line\", 'Toy Story', 'Forrest Gump', 'The Lion King', 'Speed', 'Ed Wood', 'Pulp Fiction', 'Bullets Over Broadway', 'The Madness of King George', 'Legends of the Fall', 'A Time for Justice', \"Franz Kafka's It's a Wonderful Life\", 'Maya Lin: A Strong Clear Vision', 'Burnt by the Sun', 'Trevor', 'The Adventures of Priscilla, Queen of the Desert', \"Bob's Birthday\", 'Blue Sky', \"Schindler's List\", 'The Piano', 'Jurassic Park', 'Philadelphia', 'The Fugitive', 'The Age of Innocence', 'The Wrong Trousers', 'Belle Epoque', 'I Am a Promise: The Children of Stanton Elementary School', 'Mrs. Doubtfire', 'Black Rider', 'Defending Our Lives', 'Unforgiven', 'Howards End', \"Bram Stoker's Dracula\", 'Aladdin', 'The Crying Game', 'Scent of a Woman', 'A River Runs Through It', 'Indochine', 'My Cousin Vinny', 'The Panama Deception', 'Educating Peter', 'The Last of the Mohicans', 'Death Becomes Her', 'Omnibus', 'Mona Lisa Descending a Staircase', 'The Silence of the Lambs', 'Terminator 2: Judgment Day', 'Bugsy', 'JFK', 'Beauty and the Beast', 'Thelma &amp; Louise', 'The Fisher King', 'In the Shadow of the Stars', 'Manipulation', 'Mediterraneo', 'Session Man', 'City Slickers', 'Deadly Deception: General Electric, Nuclear Weapons and Our Environment', 'Dances with Wolves', 'Dick Tracy', 'Ghost', 'Goodfellas', 'The Hunt for Red October', 'Reversal of Fortune', 'Cyrano de Bergerac', 'American Dream', 'Journey of Hope', 'Days of Waiting', 'Creature Comforts', 'The Lunch Date', 'Misery', 'Total Recall', 'Driving Miss Daisy', 'Glory', 'Born on the Fourth of July', 'My Left Foot', 'The Little Mermaid', 'Dead Poets Society', 'The Abyss', 'Indiana Jones and the Last Crusade', 'Henry V', 'The Johnstown Flood', 'Common Threads: Stories from the Quilt', 'Cinema Paradiso', 'Work Experience', 'Batman', 'Balance', 'Rain Man', 'Dangerous Liaisons', 'Who Framed Roger Rabbit', 'Mississippi Burning', 'Working Girl', 'The Accidental Tourist', 'A Fish Called Wanda', 'Pelle the Conqueror', 'The Accused', 'The Appointments of Dennis Jennings', 'Beetlejuice', 'Bird', 'Hôtel Terminus: The Life and Times of Klaus Barbie', 'The Milagro Beanfield War', 'Tin Toy', \"You Don't Have to Die\", 'The Last Emperor', 'Moonstruck', 'The Untouchables', \"Babette's Feast\", 'Dirty Dancing', 'Harry and the Hendersons', 'Innerspace', 'The Man Who Planted Trees', \"Ray's Male Heterosexual Dance Hall\", 'The Ten-Year Lunch', 'Wall Street', 'Young at Heart', 'RoboCop', 'Platoon', 'A Room with a View', 'Hannah and Her Sisters', 'Aliens', 'The Mission', 'Children of a Lesser God', 'The Color of Money', 'Top Gun', 'Round Midnight', \"Artie Shaw: Time Is All You've Got\", 'The Assault', 'Down and Out in America', 'The Fly', 'A Greek Tragedy', 'Precious Images', 'Women – for America, for the World', 'Out of Africa', 'Witness', 'Cocoon', \"Prizzi's Honor\", 'Back to the Future', 'Kiss of the Spider Woman', 'Ran', 'The Official Story', 'The Trip to Bountiful', 'White Nights', 'Anna &amp; Bella', 'Broken Rainbow', 'Mask', \"Molly's Pilgrim\", 'Witness to War: Dr. Charlie Clements', 'Amadeus', 'The Killing Fields', 'A Passage to India', 'Places in the Heart', 'Indiana Jones and the Temple of Doom', 'Charade', 'Dangerous Moves', 'Purple Rain', 'The Stone Carvers', 'The Times of Harvey Milk', 'Up', 'The Woman in Red', 'The River', 'Terms of Endearment', 'The Right Stuff', 'Fanny &amp; Alexander', 'Tender Mercies', 'Yentl', 'Flashdance', 'Boys and Girls', 'Flamenco at 5:15', \"He Makes Me Feel Like Dancin'\", 'Sundae in New York', 'The Year of Living Dangerously', 'Return of the Jedi', 'Gandhi', 'E.T.: The Extra-Terrestrial', 'An Officer and a Gentleman', 'Tootsie', 'Victor/Victoria', \"Sophie's Choice\", 'Missing', 'If You Love This Planet', 'Just Another Missing Kid', 'A Shocking Accident', 'Tango', 'To Begin Again', 'Quest for Fire', 'Chariots of Fire', 'Raiders of the Lost Ark', 'Reds', 'On Golden Pond', 'Arthur', 'An American Werewolf in London', 'Close Harmony', 'Crac', 'Genocide', 'Mephisto', 'Violet', 'Ordinary People', 'Tess', 'Raging Bull', 'Fame', 'Melvin and Howard', \"Coal Miner's Daughter\", 'The Empire Strikes Back', 'The Dollar Bottom', 'The Fly', 'From Mao to Mozart: Isaac Stern in China', 'Karl Hess: Toward Liberty', 'Moscow Does Not Believe in Tears', 'Kramer vs. Kramer', 'All That Jazz', 'Apocalypse Now', 'Norma Rae', 'Breaking Away', 'Alien', 'Being There', 'A Little Romance', 'Best Boy', 'Board and Care', 'Every Child', 'Paul Robeson: Tribute to an Artist', 'The Tin Drum', 'The Black Stallion', 'The Deer Hunter', 'Coming Home', 'Midnight Express', 'Heaven Can Wait', 'Days of Heaven', 'California Suite', 'The Buddy Holly Story', 'Death on the Nile', 'The Flight of the Gossamer Condor', 'Get Out Your Handkerchiefs', 'Scared Straight!', 'Special Delivery', 'Teenage Father', \"Thank God It's Friday\", 'Superman', 'Annie Hall', 'Star Wars', 'Julia', 'Close Encounters of the Third Kind', 'The Goodbye Girl', 'A Little Night Music', 'Gravity Is My Enemy', \"I'll Find a Way\", 'Madame Rosa', 'The Sand Castle', 'Who Are the DeBolts? And Where Did They Get Nineteen Kids?', 'You Light Up My Life', 'Rocky', 'Network', \"All the President's Men\", 'Bound for Glory', 'A Star Is Born', \"Fellini's Casanova\", 'The Omen', 'Black and White in Color', 'Harlan County, USA', 'In the Region of Ice', 'Leisure', 'Number Our Days', 'King Kong', \"Logan's Run\", \"One Flew Over the Cuckoo's Nest\", 'Barry Lyndon', 'Jaws', 'Dog Day Afternoon', 'Nashville', 'Shampoo', 'The Sunshine Boys', 'Angel and Big Joe', 'Dersu Uzala', 'The End of the Game', 'Great', 'The Man Who Skied Down Everest', 'The Hindenburg', 'The Godfather: Part II', 'The Towering Inferno', 'The Great Gatsby', 'Chinatown', 'Murder on the Orient Express', 'Earthquake', \"Alice Doesn't Live Here Anymore\", 'Amarcord', 'Harry and Tonto', 'Closed Mondays', \"Don't\", 'Hearts and Minds', 'One-Eyed Men Are Kings', 'The Sting', 'The Exorcist', 'The Way We Were', 'Cries and Whispers', 'A Touch of Class', 'Day for Night', 'Paper Moon', 'The Paper Chase', 'Save the Tiger', 'The Bolero', 'Frank Film', 'The Great American Cowboy', 'Princeton: A Search for Answers', 'The Godfather', 'Cabaret', 'The Poseidon Adventure', 'Travels with My Aunt', 'Butterflies Are Free', 'The Candidate', 'The Discreet Charm of the Bourgeoisie', 'A Christmas Carol', 'Limelight', 'Marjoe', \"Norman Rockwell's World... An American Dream\", 'This Tiny World', 'The French Connection', 'Fiddler on the Roof', 'The Last Picture Show', 'Nicholas and Alexandra', 'Sentinels of Silence', 'Bedknobs and Broomsticks', \"Summer of '42\", 'The Garden of the Finzi-Continis', 'The Hospital', 'Klute', 'Shaft', 'The Crunch Bird', 'The Hellstrom Chronicle', 'Patton', \"Ryan's Daughter\", 'Airport', 'Love Story', 'M*A*S*H', 'Tora! Tora! Tora!', 'Women in Love', 'Lovers and Other Strangers', 'Woodstock', 'Cromwell', 'Investigation of a Citizen Above Suspicion', 'Interviews with My Lai Veterans', 'Is It Always Right to Be Right?', 'Let It Be', 'The Resurrection of Broncho Billy', 'Midnight Cowboy', 'Butch Cassidy and the Sundance Kid', 'Hello, Dolly!', 'Z', 'Anne of the Thousand Days', \"They Shoot Horses, Don't They?\", 'Marooned', 'The Magic Machines', 'The Prime of Miss Jean Brodie', 'True Grit', 'Arthur Rubinstein – The Love of Life', 'Cactus Flower', 'Czechoslovakia 1968', \"It's Tough to Be a Bird\", 'Oliver!', 'The Lion in Winter', 'Romeo and Juliet', 'Funny Girl', '2001: A Space Odyssey', 'Bullitt', 'The Producers', \"Rosemary's Baby\", 'The Subject Was Roses', 'The Thomas Crown Affair', 'War and Peace', 'Charly', 'Journey into Self', 'Robert Kennedy Remembered', 'Why Man Creates', 'Winnie the Pooh and the Blustery Day', 'Planet of the Apes', 'In the Heat of the Night', 'Camelot', 'Bonnie and Clyde', \"Guess Who's Coming to Dinner\", 'Doctor Dolittle', 'The Graduate', 'Thoroughly Modern Millie', 'Cool Hand Luke', 'The Dirty Dozen', 'A Place to Stand', 'The Anderson Platoon', 'The Box', 'Closely Watched Trains', 'The Redwoods', 'A Man for All Seasons', \"Who's Afraid of Virginia Woolf?\", 'Grand Prix', 'Fantastic Voyage', 'A Man and a Woman', 'Born Free', 'The Fortune Cookie', 'A Funny Thing Happened on the Way to the Forum', 'A Herb Alpert and the Tijuana Brass Double Feature', 'The War Game', 'Wild Wings', 'A Year Toward Tomorrow', 'The Sound of Music', 'Doctor Zhivago', 'Darling', 'Ship of Fools', 'Cat Ballou', 'The Great Race', 'A Patch of Blue', 'A Thousand Clowns', 'The Shop on Main Street', 'The Sandpiper', 'The Eleanor Roosevelt Story', 'To Be Alive!', '7 Faces of Dr. Lao', '7th Heaven', '20,000 Leagues Under the Sea', 'Adventures of Don Juan', 'The Adventures of Robin Hood', 'The African Queen', 'Air Force', 'The Alamo', 'The Alaskan Eskimo', 'Albert Schweitzer', \"Alexander's Ragtime Band\", 'All About Eve', 'All Quiet on the Western Front', 'All That Money Can Buy', \"All the King's Men\", 'Ama Girls', 'America America', 'An American in Paris', 'Amphibious Fighters', 'Anastasia', 'Anchors Aweigh', 'Anna and the King of Siam', 'Annie Get Your Gun', 'Anthony Adverse', 'The Apartment', 'Aquatic House Party', 'Arise, My Love', 'Around the World in 80 Days', 'The Awful Truth', 'The Bachelor and the Bobby-Soxer', 'The Bad and the Beautiful', 'Bad Girl', 'The Barefoot Contessa', 'The Battle of Midway', 'Battleground', 'Bear Country', 'Becket', \"The Bells of St. Mary's\", 'Ben-Hur', 'Benjy', 'The Bespoke Overcoat', 'The Best Years of Our Lives', 'Beyond the Line of Duty', 'Bicycle Thieves', 'The Big Broadcast of 1938', 'The Big Country', 'The Big House', 'Bill and Coo', 'Birds Anonymous', \"The Bishop's Wife\", 'Black Fox: The Rise and Fall of Adolf Hitler', 'Black Narcissus', 'Black Orpheus', 'The Black Swan', 'Blithe Spirit', 'Blood and Sand', 'Blood on the Sun', 'Blossoms in the Dust', 'Body and Soul', 'Bored of Education', 'Born Yesterday', 'A Boy and His Dog', 'Boys Town', 'The Brave One', \"Breakfast at Tiffany's\", 'Breaking the Sound Barrier', 'The Bridge of San Luis Rey', 'The Bridge on the River Kwai', 'The Bridges at Toko-Ri', 'Broadway Melody of 1936', 'The Broadway Melody', 'Broken Lance', 'Busy Little Bears', 'BUtterfield 8', 'Calamity Jane', 'Call Me Madam', 'Captain Carey, U.S.A.', 'Captains Courageous', 'Casablanca', 'Casals Conducts: 1964', 'The Cat Concerto', 'Cavalcade', 'Chagall', 'The Champ', 'Champion', 'A Chance to Live', 'The Charge of the Light Brigade', 'The Chicken', \"Churchill's Island\", 'Cimarron', 'The Circus', 'Citizen Kane', 'City of Wax', 'Cleopatra', 'Cleopatra', 'Climbing the Matterhorn', 'Come and Get It', 'Come Back, Little Sheba', 'Coquette', 'The Country Cousin', 'The Country Girl', 'Cover Girl', 'The Cowboy and the Lady', 'Crash Dive', 'Crashing the Water Barrier', 'The Critic', 'La Cucaracha', 'Cyrano de Bergerac', 'A Damsel in Distress', 'Dangerous', 'The Dark Angel', 'The Dawn Patrol', 'Day of the Painter', 'Daybreak in Udi', 'Days of Wine and Roses', 'December 7th', 'Declaration of Independence', 'The Defiant Ones', \"Der Fuehrer's Face\", 'Desert Victory', 'Design for Death', 'Designing Woman', 'Destination Moon', 'The Diary of Anne Frank', 'Disraeli', 'The Divine Lady', 'Divorce Italian Style', 'The Divorcee', 'Dodsworth', 'The Dot and the Line', 'A Double Life', 'The Dove', 'Dr. Jekyll and Mr. Hyde', 'Dumbo', 'Dylan Thomas', 'East of Eden', 'Easter Parade', 'Elmer Gantry', 'The Enemy Below', 'Eskimo', 'Exodus', 'The Face of Lincoln', 'Facing Your Danger', 'The Facts of Life', 'Fantasia', 'A Farewell to Arms', \"The Farmer's Daughter\", 'Father Goose', \"Federico Fellini's 8½\", 'Ferdinand the Bull', 'The Fighting Lady', 'First Steps', 'Flowers and Trees', 'Folies Bergere', 'For Scent-imental Reasons', 'For Whom the Bell Tolls', 'Forbidden Games', '', 'A Free Soul', \"Frenchman's Creek\", 'From Here to Eternity', 'The Garden of Allah', 'Gaslight', 'Gate of Hell', 'The Gay Divorcee', \"Gentleman's Agreement\", 'Gerald McBoing-Boing', 'Giant', 'Gigi', 'Giuseppina', 'Give Me Liberty', 'Glass', 'The Glenn Miller Story', 'Going My Way', 'Gold Diggers of 1935', 'The Golden Fish', 'Goldfinger', 'Gone with the Wind', 'The Good Earth', 'Goodbye, Miss Turlock', 'Goodbye, Mr. Chips', 'Grand Canyon', 'Grand Hotel', 'Grandad of Races', 'The Grapes of Wrath', 'The Great Caruso', 'Great Expectations', 'The Great Lie', 'The Great McGinty', 'The Great Waltz', 'The Great Ziegfeld', 'The Greatest Show on Earth', 'Green Dolphin Street', 'The Guns of Navarone', 'Hamlet', 'Happy Anniversary', 'Harvey', 'The Harvey Girls', 'Heavenly Music', 'The Heiress', 'Helen Keller in Her Story', 'Hello, Frisco, Hello', 'Henry V', 'Here Comes Mr. Jordan', 'Here Comes the Groom', 'The High and the Mighty', 'High Noon', 'Hitler Lives', 'A Hole in the Head', 'The Hole', 'Holiday Inn', 'The Horse with the Flying Tail', 'The House I Live In', 'The House on 92nd Street', 'How Green Was My Valley', 'How the West Was Won', 'How to Sleep', 'Hud', 'The Human Comedy', 'The Hurricane', 'The Hustler', 'I Want to Live!', 'I Wanted Wings', \"I Won't Play\", \"I'll Cry Tomorrow\", 'In Beaver Valley', 'In Old Arizona', 'In Old Chicago', 'In Which We Serve', 'The Informer', 'Interrupted Melody', 'The Invaders', 'Irma la Douce', 'It Happened One Night', \"It's a Mad, Mad, Mad, Mad World\", 'The Jazz Singer', 'Jezebel', 'Joan of Arc', 'Johann Mouse', 'Johnny Belinda', 'Johnny Eager', 'The Joker Is Wild', 'The Jolson Story', 'Judgment at Nuremberg', 'Julius Caesar', 'Kentucky', 'Key Largo', 'The King and I', 'King of Jazz', \"King Solomon's Mines\", 'Kitty Foyle', 'Knighty Knight Bugs', 'Kokoda Front Line!', 'Kon-Tiki', 'Krakatoa', 'Kukan', 'La Strada', 'La Dolce Vita', 'Lady Be Good', 'The Last Command', 'Laura', 'The Lavender Hill Mob', 'Lawrence of Arabia', 'Leave Her to Heaven', 'Lend a Paw', 'Les Girls', 'A Letter to Three Wives', 'The Life of Emile Zola', 'Light in the Window', 'Lili', 'Lilies of the Field', 'The Little Kidnappers', 'The Little Orphan', 'Little Women', 'Little Women', 'The Lives of a Bengal Lancer', 'The Living Desert', 'The Longest Day', 'Lost Horizon', 'The Lost Weekend', 'Love Is a Many-Splendored Thing', 'Love Me or Leave Me', 'Lust for Life', \"Magoo's Puddle Jumper\", 'Main Street on the March!', 'The Man Who Knew Too Much', 'Manhattan Melodrama', 'Marie-Louise', 'Marty', 'Mary Poppins', 'Men Against the Arctic', 'The Merry Widow', \"A Midsummer Night's Dream\", 'Mighty Joe Young', 'Mildred Pierce', 'The Milky Way', 'Min and Bill', 'Miracle on 34th Street', 'The Miracle Worker', 'Mister Roberts', 'Monsieur Vincent', 'Moonbird', 'The More the Merrier', 'Morning Glory', 'Moscow Strikes Back', 'Mother Wore Tights', 'Moulin Rouge', 'Mouse Trouble', 'Mr. Deeds Goes to Town', 'Mr. Smith Goes to Washington', 'Mrs. Miniver', 'Munro', 'The Music Box', 'The Music Man', 'Mutiny on the Bounty', 'My Fair Lady', 'My Uncle', 'My Gal Sal', 'The Naked City', 'National Velvet', \"Nature's Half Acre\", 'Naughty Marietta', 'Neighbours', \"Neptune's Daughter\", 'Never on Sunday', 'The Night of the Iguana', 'Nights of Cabiria', 'Nine from Little Rock', 'None But the Lonely Heart', 'North West Mounted Police', 'Now, Voyager', 'An Occurrence at Owl Creek Bridge', 'Of Pups and Puzzles', 'Oklahoma!', 'The Old Man and the Sea', 'The Old Mill', 'On the Town', 'On the Waterfront', 'One Hundred Men and a Girl', 'One Night of Love', 'One Way Passage', 'Overture to The Merry Wives of Windsor', 'The Paleface', 'Panic in the Streets', \"Papa's Delicate Condition\", 'The Patriot', 'Penny Wisdom', 'Phantom of the Opera', 'The Philadelphia Story', 'Picnic', 'The Picture of Dorian Gray', 'Pillow Talk', 'The Pink Phink', 'Pinocchio', 'A Place in the Sun', 'Plymouth Adventure', 'Pollyanna', 'Porgy and Bess', 'Portrait of Jennie', 'Prelude to War', 'Pride and Prejudice', 'The Pride of the Yankees', \"Princess O'Rourke\", 'The Private Life of Henry VIII', 'The Private Life of the Gannets', 'Project Hope', 'The Public Pays', 'Pygmalion', \"Quicker'n a Wink\", 'The Quiet Man', 'Quiet Please!', 'The Rains Came', 'Rashomon', \"The Razor's Edge\", 'Reap the Wild Wind', 'Rebecca', 'The Red Balloon', 'The Red Shoes', 'The Robe', \"Robert Frost: A Lover's Quarrel with the World\", 'Roman Holiday', 'Room at the Top', 'The Rose Tattoo', 'Sabrina', 'Samson and Delilah', 'Samurai I: Musashi Miyamoto', 'San Francisco', 'Sayonara', 'The Scoundrel', 'The Sea Around Us', 'Seal Island', 'The Search', 'Seawards the Great Ships', 'The Secret Land', 'Seeds of Destiny', 'Separate Tables', 'Serengeti Shall Not Die', 'Sergeant York', 'Seven Brides for Seven Brothers', 'Seven Days to Noon', 'The Seventh Veil', 'Shane', 'Shanghai Express', 'She Wore a Yellow Ribbon', 'Shoeshine', 'The Silent World', 'The Sin of Madelon Claudet', 'Since You Went Away', 'Skippy', 'Sky Above and Mud Beneath', 'The Snake Pit', 'Snow White and the Seven Dwarfs', 'So Much for So Little', 'So This Is Harris!', 'The Solid Gold Cadillac', 'Some Like It Hot', 'Somebody Up There Likes Me', 'The Song of Bernadette', 'Song of the South', 'Song Without End', 'Sons and Lovers', 'Sons of Liberty', 'South Pacific', 'Spartacus', 'Spawn of the North', 'Speaking of Animals and Their Families', 'Speedy Gonzales', 'Spellbound', 'Splendor in the Grass', 'Stagecoach', 'Stairway to Light', 'Stalag 17', 'Star in the Night', 'A Star Is Born', 'State Fair', 'The Story of Louis Pasteur', 'The Stratton Story', 'Street Angel', 'A Streetcar Named Desire', 'Strike Up the Band', 'The Substitute', 'Sundays and Cybele', 'Sunrise', 'Sunset Boulevard', 'Survival City', 'Suspicion', 'Sweet Bird of Youth', 'Sweethearts', 'Swing Time', 'Symphony of a City', 'Tabu', 'Target for Tonight', 'Teddy, the Rough Rider', 'Tempest', 'The Ten Commandments', 'That Hamilton Woman', 'That Mothers Might Live', 'The Thief of Bagdad', 'The Third Man', 'Thirty Seconds Over Tokyo', 'This Above All', 'This Is the Army', 'This Land Is Mine', 'This Mechanical Age', 'Three Coins in the Fountain', 'The Three Faces of Eve', 'Three Little Pigs', 'Three Orphan Kittens', 'Through a Glass Darkly', 'Thunderball', \"Thursday's Children\", 'The Time Machine', 'A Time Out of War', 'Tin Pan Alley', 'The Titan: Story of Michelangelo', 'Titanic', 'To Catch a Thief', 'To Each His Own', 'To Kill a Mockingbird', 'Tom Jones', 'tom thumb', 'Toot, Whistle, Plunk and Boom', 'Topkapi', 'The Tortoise and the Hare', 'Torture Money', 'Toward Independence', 'Transatlantic', 'The Treasure of the Sierra Madre', 'A Tree Grows in Brooklyn', 'The True Glory', 'The True Story of the Civil War', 'Tweetie Pie', \"Twelve O'Clock High\", 'Two Arabian Knights', 'The Two Mouseketeers', 'Two Women', 'The Ugly Duckling', 'Underworld', 'The V.I.P.s', 'Vacation from Marriage', 'Van Gogh', 'The Vanishing Prairie', 'The Virgin Spring', 'Viva Villa!', 'Viva Zapata!', 'Waikiki Wedding', 'The Walls of Malapaga', 'The War of the Worlds', 'Watch on the Rhine', 'Water Birds', 'The Way of All Flesh', 'West Side Story', 'The Westerner', 'The Wetback Hound', 'What Ever Happened to Baby Jane?', 'When Tomorrow Comes', 'When Magoo Flew', 'When Worlds Collide', 'White Shadows in the South Seas', 'White Wilderness', \"Who's Who in Animal Land\", 'Why Korea?', 'Wilson', 'Wings', 'Wings Over Everest', 'With a Song in My Heart', 'With Byrd at the South Pole', 'With the Marines at Tarawa', 'The Wizard of Oz', 'Woman of the Year', 'Wonder Man', 'The Wonderful World of the Brothers Grimm', 'World of Kids', 'World Without Sun', 'Wrestling Swordfish', 'Written on the Wind', 'Wuthering Heights', 'Yankee Doodle Dandy', 'The Yankee Doodle Mouse', 'The Yearling', 'Yesterday, Today and Tomorrow', \"You Can't Take It with You\", 'Zorba the Greek', '', '', ''] ['2022', '2022', '2022', '2022', '2022', '2022', '2022', '2022', '2022', '2022', '2022', '2022', '2022', '2021', '2021', '2021', '2021', '2021', '2021', '2021', '2021', '2021', '2021', '2021', '2021', '2021', '2021', '2021', '21', '21', '21', '21', '21', '21', '21', '21', '21', '21', '21', '21', '21', '21', '21', '2019', '2019', '2019', '2019', '2019', '2019', '2019', '2019', '2019', '2019', '2019', '2019', '2019', '2019', '2019', '2019', '2018', '2018', '2018', '2018', '2018', '2018', '2018', '2018', '2018', '2018', '2018', '2018', '2018', '2018', '2018', '2017', '2017', '2017', '2017', '2017', '2017', '2017', '2017', '2017', '2017', '2017', '2017', '2017', '2017', '2017', '2017', '2016', '2016', '2016', '2016', '2016', '2016', '2016', '2016', '2016', '2016', '2016', '2016', '2016', '2016', '2016', '2015', '2015', '2015', '2015', '2015', '2015', '2015', '2015', '2015', '2015', '2015', '2015', '2015', '2015', '2015', '2015', '2014', '2014', '2014', '2014', '2014', '2014', '2014', '2014', '2014', '2014', '2014', '2014', '2014', '2014', '2014', '2014', '2013', '2013', '2013', '2013', '2013', '2013', '2013', '2013', '2013', '2013', '2013', '2013', '2012', '2012', '2012', '2012', '2012', '2012', '2012', '2012', '2012', '2012', '2012', '2012', '2012', '2012', '2012', '2011', '2011', '2011', '2011', '2011', '2011', '2011', '2011', '2011', '2011', '2011', '2011', '2011', '2011', '2011', '2010', '2010', '2010', '2010', '2010', '2010', '2010', '2010', '2010', '2010', '2010', '2010', '2010', '2009', '2009', '2009', '2009', '2009', '2009', '2009', '2009', '2009', '2009', '2009', '2009', '2009', '2009', '2008', '2008', '2008', '2008', '2008', '2008', '2008', '2008', '2008', '2008', '2008', '2008', '2008', '2007', '2007', '2007', '2007', '2007', '2007', '2007', '2007', '2007', '2007', '2007', '2007', '2007', '2007', '2007', '2007', '2007', '2006', '2006', '2006', '2006', '2006', '2006', '2006', '2006', '2006', '2006', '2006', '2006', '2006', '2006', '2006', '2006', '2005', '2005', '2005', '2005', '2005', '2005', '2005', '2005', '2005', '2005', '2005', '2005', '2005', '2005', '2005', '2005', '2004', '2004', '2004', '2004', '2004', '2004', '2004', '2004', '2004', '2004', '2004', '2004', '2004', '2004', '2004', '2003', '2003', '2003', '2003', '2003', '2003', '2003', '2003', '2003', '2003', '2003', '2003', '2002', '2002', '2002', '2002', '2002', '2002', '2002', '2002', '2002', '2002', '2002', '2002', '2002', '2002', '2002', '2001', '2001', '2001', '2001', '2001', '2001', '2001', '2001', '2001', '2001', '2001', '2001', '2001', '2001', '2001', '2001', '2000', '2000', '2000', '2000', '2000', '2000', '2000', '2000', '2000', '2000', '2000', '2000', '2000', '1999', '1999', '1999', '1999', '1999', '1999', '1999', '1999', '1999', '1999', '1999', '1999', '1999', '1999', '1998', '1998', '1998', '1998', '1998', '1998', '1998', '1998', '1998', '1998', '1998', '1998', '1997', '1997', '1997', '1997', '1997', '1997', '1997', '1997', '1997', '1997', '1997', '1996', '1996', '1996', '1996', '1996', '1996', '1996', '1996', '1996', '1996', '1996', '1996', '1996', '1996', '1996', '1995', '1995', '1995', '1995', '1995', '1995', '1995', '1995', '1995', '1995', '1995', '1995', '1995', '1995', '1995', '1995', '1995', '1994', '1994', '1994', '1994', '1994', '1994', '1994', '1994', '1994', '1994', '1994', '1994', '1994', '1994', '1994', '1994', '1993', '1993', '1993', '1993', '1993', '1993', '1993', '1993', '1993', '1993', '1993', '1993', '1992', '1992', '1992', '1992', '1992', '1992', '1992', '1992', '1992', '1992', '1992', '1992', '1992', '1992', '1992', '1991', '1991', '1991', '1991', '1991', '1991', '1991', '1991', '1991', '1991', '1991', '1991', '1991', '1990', '1990', '1990', '1990', '1990', '1990', '1990', '1990', '1990', '1990', '1990', '1990', '1990', '1990', '1989', '1989', '1989', '1989', '1989', '1989', '1989', '1989', '1989', '1989', '1989', '1989', '1989', '1989', '1989', '1988', '1988', '1988', '1988', '1988', '1988', '1988', '1988', '1988', '1988', '1988', '1988', '1988', '1988', '1988', '1988', '1987', '1987', '1987', '1987', '1987', '1987', '1987', '1987', '1987', '1987', '1987', '1987', '1987', '1986', '1986', '1986', '1986', '1986', '1986', '1986', '1986', '1986', '1986', '1986', '1986', '1986', '1986', '1986', '1986', '1985', '1985', '1985', '1985', '1985', '1985', '1985', '1985', '1985', '1985', '1985', '1985', '1985', '1985', '1985', '1984', '1984', '1984', '1984', '1984', '1984', '1984', '1984', '1984', '1984', '1984', '1984', '1984', '1983', '1983', '1983', '1983', '1983', '1983', '1983', '1983', '1983', '1983', '1983', '1983', '1982', '1982', '1982', '1982', '1982', '1982', '1982', '1982', '1982', '1982', '1982', '1982', '1982', '1981', '1981', '1981', '1981', '1981', '1981', '1981', '1981', '1981', '1981', '1981', '1980', '1980', '1980', '1980', '1980', '1980', '1980', '1980', '1980', '1980', '1980', '1980', '1979', '1979', '1979', '1979', '1979', '1979', '1979', '1979', '1979', '1979', '1979', '1979', '1979', '1979', '1978', '1978', '1978', '1978', '1978', '1978', '1978', '1978', '1978', '1978', '1978', '1978', '1978', '1978', '1978', '1977', '1977', '1977', '1977', '1977', '1977', '1977', '1977', '1977', '1977', '1977', '1977', '1976', '1976', '1976', '1976', '1976', '1976', '1976', '1976', '1976', '1976', '1976', '1976', '1976', '1976', '1975', '1975', '1975', '1975', '1975', '1975', '1975', '1975', '1975', '1975', '1975', '1975', '1975', '1974', '1974', '1974', '1974', '1974', '1974', '1974', '1974', '1974', '1974', '1974', '1974', '1974', '1973', '1973', '1973', '1973', '1973', '1973', '1973', '1973', '1973', '1973', '1973', '1973', '1973', '1972', '1972', '1972', '1972', '1972', '1972', '1972', '1972', '1972', '1972', '1972', '1972', '1971', '1971', '1971', '1971', '1971', '1971', '1971', '1971', '1971', '1971', '1971', '1971', '1971', '1970', '1970', '1970', '1970', '1970', '1970', '1970', '1970', '1970', '1970', '1970', '1970', '1970', '1970', '1970', '1969', '1969', '1969', '1969', '1969', '1969', '1969', '1969', '1969', '1969', '1969', '1969', '1969', '1969', '1968', '1968', '1968', '1968', '1968', '1968', '1967', '1968', '1968', '1968', '1968', '1968', '1968', '1968', '1968', '1968', '1968', '1967', '1967', '1967', '1967', '1967', '1967', '1967', '1967', '1967', '1967', '1967', '1967', '1967', '1967', '1966', '1966', '1966', '1966', '1966', '1966', '1966', '1966', '1966', '1966', '1966', '1966', '1965', '1965', '1965', '1965', '1965', '1965', '1965', '1965', '1965', '1965', '1965', '1965', '1964', '28', '1954', '1949', '1938', '1951', '1943', '1960', '1953', '1957', '1938', '1950', '30', '1941', '1949', '1958', '1963', '1951', '1943', '1956', '1945', '1946', '1950', '1936', '1960', '1949', '1940', '1956', '1937', '1947', '1952', '32', '1954', '1942', '1949', '1953', '1964', '1945', '1959', '1951', '1956', '1946', '1942', '1949', '1938', '1958', '30', '1948', '1957', '1947', '1962', '1947', '1959', '1942', '1946', '1941', '1945', '1941', '1947', '1936', '1950', '1946', '1938', '1956', '1961', '1952', '29', '1957', '1955', '1935', '29', '1954', '1939', '1960', '1953', '1953', '1950', '1937', '1943', '1964', '1946', '33', '1963', '32', '1949', '1949', '1936', '1965', '1941', '31', '28', '1941', '1934', '1934', '1963', '1947', '1936', '1952', '29', '1936', '1954', '1944', '1938', '1943', '1956', '1963', '1934', '1950', '1937', '1935', '1935', '31', '1960', '1949', '1962', '1943', '1938', '1958', '1942', '1943', '1947', '1957', '1950', '1959', '30', '29', '1962', '30', '1936', '1965', '1947', '28', '32', '1941', '1962', '1955', '1948', '1960', '1957', '1934', '1960', '1955', '1946', '1960', '1940', '33', '1947', '1964', '1963', '1938', '1944', '1947', '32', '1935', '1949', '1943', '1952', '1961', '31', '1945', '1953', '1936', '1944', '1954', '1934', '1947', '1950', '1956', '1958', '1960', '1936', '1959', '1954', '1944', '1935', '1959', '1964', '1939', '1937', '1947', '1939', '1958', '32', '1950', '1940', '1951', '1947', '1941', '1940', '1938', '1936', '1952', '1947', '1961', '1948', '1962', '1950', '1946', '1943', '1949', '1955', '1943', '1946', '1941', '1951', '1954', '1952', '1945', '1959', '1962', '1942', '1960', '1945', '1945', '1941', '1963', '1935', '1963', '1943', '1937', '1961', '1958', '1941', '1944', '1955', '1950', '29', '1937', '1942', '1935', '1955', '1942', '1963', '1934', '1963', '28', '1938', '1948', '1952', '1948', '1942', '1957', '1946', '1961', '1953', '1938', '1948', '1956', '30', '1950', '1940', '1958', '1942', '1950', '33', '1941', '1956', '1961', '1941', '28', '1944', '1952', '1962', '1945', '1941', '1957', '1949', '1937', '1952', '1953', '1963', '1954', '1948', '33', '1949', '1935', '1953', '1962', '1937', '1945', '1955', '1955', '1956', '1956', '1941', '1956', '1934', '1945', '1955', '1964', '1955', '1934', '1935', '1949', '1945', '1940', '31', '1947', '1962', '1955', '1948', '1959', '1943', '33', '1942', '1947', '1952', '1944', '1936', '1939', '1942', '1960', '32', '1962', '1935', '1964', '1958', '1942', '1948', '1945', '1951', '1935', '1952', '1949', '1960', '1964', '1957', '1964', '1944', '1940', '1942', '1963', '1941', '1955', '1958', '1937', '1949', '1954', '1937', '1934', '33', '1953', '1948', '1950', '1963', '29', '1937', '1943', '1940', '1955', '1945', '1959', '1964', '1940', '1951', '1952', '1960', '1959', '1948', '1942', '1940', '1942', '1943', '33', '1937', '1961', '1936', '1938', '1940', '1952', '1945', '1939', '1951', '1946', '1942', '1940', '1956', '1948', '1953', '1963', '1953', '1959', '1955', '1954', '1950', '1955', '1936', '1957', '1935', '1952', '1948', '1948', '1961', '1948', '1946', '1958', '1959', '1941', '1954', '1951', '1946', '1953', '32', '1949', '1947', '1956', '32', '1944', '31', '1961', '1948', '1937', '1949', '33', '1956', '1959', '1956', '1943', '1947', '1960', '1960', '1939', '1958', '1960', '1938', '1942', '1955', '1945', '1961', '1939', '1945', '1953', '1945', '1937', '1945', '1936', '1949', '28', '1951', '1940', '1961', '1962', '28', '1950', '1955', '1941', '1962', '1938', '1936', '1948', '31', '1941', '1940', '28', '1956', '1941', '1938', '1940', '1950', '1944', '1942', '1943', '1943', '1954', '1954', '1957', '33', '1935', '1961', '1965', '1954', '1960', '1954', '1940', '1950', '1953', '1955', '1946', '1962', '1963', '1958', '1953', '1964', '1934', '1937', '1948', '32', '1948', '1945', '1945', '1956', '1947', '1949', '28', '1951', '1961', '1939', '28', '1963', '1946', '1949', '1954', '1960', '1934', '1952', '1937', '1950', '1953', '1943', '1952', '28', '1961', '1940', '1957', '1962', '1939', '1954', '1951', '29', '1958', '1944', '1950', '1944', '28', '1935', '1952', '30', '1944', '1939', '1942', '1945', '1962', '1951', '1964', '32', '1956', '1939', '1942', '1943', '1946', '1964', '1938', '1964', '', '', '', '2022', '2022', '2022', '2022', '2022', '2022', '2022', '2022', '2022', '2022', '2022', '2022', '2022', '2021', '2021', '2021', '2021', '2021', '2021', '2021', '2021', '2021', '2021', '2021', '2021', '2021', '2021', '2021', '21', '21', '21', '21', '21', '21', '21', '21', '21', '21', '21', '21', '21', '21', '21', '2019', '2019', '2019', '2019', '2019', '2019', '2019', '2019', '2019', '2019', '2019', '2019', '2019', '2019', '2019', '2019', '2018', '2018', '2018', '2018', '2018', '2018', '2018', '2018', '2018', '2018', '2018', '2018', '2018', '2018', '2018', '2017', '2017', '2017', '2017', '2017', '2017', '2017', '2017', '2017', '2017', '2017', '2017', '2017', '2017', '2017', '2017', '2016', '2016', '2016', '2016', '2016', '2016', '2016', '2016', '2016', '2016', '2016', '2016', '2016', '2016', '2016', '2015', '2015', '2015', '2015', '2015', '2015', '2015', '2015', '2015', '2015', '2015', '2015', '2015', '2015', '2015', '2015', '2014', '2014', '2014', '2014', '2014', '2014', '2014', '2014', '2014', '2014', '2014', '2014', '2014', '2014', '2014', '2014', '2013', '2013', '2013', '2013', '2013', '2013', '2013', '2013', '2013', '2013', '2013', '2013', '2012', '2012', '2012', '2012', '2012', '2012', '2012', '2012', '2012', '2012', '2012', '2012', '2012', '2012', '2012', '2011', '2011', '2011', '2011', '2011', '2011', '2011', '2011', '2011', '2011', '2011', '2011', '2011', '2011', '2011', '2010', '2010', '2010', '2010', '2010', '2010', '2010', '2010', '2010', '2010', '2010', '2010', '2010', '2009', '2009', '2009', '2009', '2009', '2009', '2009', '2009', '2009', '2009', '2009', '2009', '2009', '2009', '2008', '2008', '2008', '2008', '2008', '2008', '2008', '2008', '2008', '2008', '2008', '2008', '2008', '2007', '2007', '2007', '2007', '2007', '2007', '2007', '2007', '2007', '2007', '2007', '2007', '2007', '2007', '2007', '2007', '2007', '2006', '2006', '2006', '2006', '2006', '2006', '2006', '2006', '2006', '2006', '2006', '2006', '2006', '2006', '2006', '2006', '2005', '2005', '2005', '2005', '2005', '2005', '2005', '2005', '2005', '2005', '2005', '2005', '2005', '2005', '2005', '2005', '2004', '2004', '2004', '2004', '2004', '2004', '2004', '2004', '2004', '2004', '2004', '2004', '2004', '2004', '2004', '2003', '2003', '2003', '2003', '2003', '2003', '2003', '2003', '2003', '2003', '2003', '2003', '2002', '2002', '2002', '2002', '2002', '2002', '2002', '2002', '2002', '2002', '2002', '2002', '2002', '2002', '2002', '2001', '2001', '2001', '2001', '2001', '2001', '2001', '2001', '2001', '2001', '2001', '2001', '2001', '2001', '2001', '2001', '2000', '2000', '2000', '2000', '2000', '2000', '2000', '2000', '2000', '2000', '2000', '2000', '2000', '1999', '1999', '1999', '1999', '1999', '1999', '1999', '1999', '1999', '1999', '1999', '1999', '1999', '1999', '1998', '1998', '1998', '1998', '1998', '1998', '1998', '1998', '1998', '1998', '1998', '1998', '1997', '1997', '1997', '1997', '1997', '1997', '1997', '1997', '1997', '1997', '1997', '1996', '1996', '1996', '1996', '1996', '1996', '1996', '1996', '1996', '1996', '1996', '1996', '1996', '1996', '1996', '1995', '1995', '1995', '1995', '1995', '1995', '1995', '1995', '1995', '1995', '1995', '1995', '1995', '1995', '1995', '1995', '1995', '1994', '1994', '1994', '1994', '1994', '1994', '1994', '1994', '1994', '1994', '1994', '1994', '1994', '1994', '1994', '1994', '1993', '1993', '1993', '1993', '1993', '1993', '1993', '1993', '1993', '1993', '1993', '1993', '1992', '1992', '1992', '1992', '1992', '1992', '1992', '1992', '1992', '1992', '1992', '1992', '1992', '1992', '1992', '1991', '1991', '1991', '1991', '1991', '1991', '1991', '1991', '1991', '1991', '1991', '1991', '1991', '1990', '1990', '1990', '1990', '1990', '1990', '1990', '1990', '1990', '1990', '1990', '1990', '1990', '1990', '1989', '1989', '1989', '1989', '1989', '1989', '1989', '1989', '1989', '1989', '1989', '1989', '1989', '1989', '1989', '1988', '1988', '1988', '1988', '1988', '1988', '1988', '1988', '1988', '1988', '1988', '1988', '1988', '1988', '1988', '1988', '1987', '1987', '1987', '1987', '1987', '1987', '1987', '1987', '1987', '1987', '1987', '1987', '1987', '1986', '1986', '1986', '1986', '1986', '1986', '1986', '1986', '1986', '1986', '1986', '1986', '1986', '1986', '1986', '1986', '1985', '1985', '1985', '1985', '1985', '1985', '1985', '1985', '1985', '1985', '1985', '1985', '1985', '1985', '1985', '1984', '1984', '1984', '1984', '1984', '1984', '1984', '1984', '1984', '1984', '1984', '1984', '1984', '1983', '1983', '1983', '1983', '1983', '1983', '1983', '1983', '1983', '1983', '1983', '1983', '1982', '1982', '1982', '1982', '1982', '1982', '1982', '1982', '1982', '1982', '1982', '1982', '1982', '1981', '1981', '1981', '1981', '1981', '1981', '1981', '1981', '1981', '1981', '1981', '1980', '1980', '1980', '1980', '1980', '1980', '1980', '1980', '1980', '1980', '1980', '1980', '1979', '1979', '1979', '1979', '1979', '1979', '1979', '1979', '1979', '1979', '1979', '1979', '1979', '1979', '1978', '1978', '1978', '1978', '1978', '1978', '1978', '1978', '1978', '1978', '1978', '1978', '1978', '1978', '1978', '1977', '1977', '1977', '1977', '1977', '1977', '1977', '1977', '1977', '1977', '1977', '1977', '1976', '1976', '1976', '1976', '1976', '1976', '1976', '1976', '1976', '1976', '1976', '1976', '1976', '1976', '1975', '1975', '1975', '1975', '1975', '1975', '1975', '1975', '1975', '1975', '1975', '1975', '1975', '1974', '1974', '1974', '1974', '1974', '1974', '1974', '1974', '1974', '1974', '1974', '1974', '1974', '1973', '1973', '1973', '1973', '1973', '1973', '1973', '1973', '1973', '1973', '1973', '1973', '1973', '1972', '1972', '1972', '1972', '1972', '1972', '1972', '1972', '1972', '1972', '1972', '1972', '1971', '1971', '1971', '1971', '1971', '1971', '1971', '1971', '1971', '1971', '1971', '1971', '1971', '1970', '1970', '1970', '1970', '1970', '1970', '1970', '1970', '1970', '1970', '1970', '1970', '1970', '1970', '1970', '1969', '1969', '1969', '1969', '1969', '1969', '1969', '1969', '1969', '1969', '1969', '1969', '1969', '1969', '1968', '1968', '1968', '1968', '1968', '1968', '1967', '1968', '1968', '1968', '1968', '1968', '1968', '1968', '1968', '1968', '1968', '1967', '1967', '1967', '1967', '1967', '1967', '1967', '1967', '1967', '1967', '1967', '1967', '1967', '1967', '1966', '1966', '1966', '1966', '1966', '1966', '1966', '1966', '1966', '1966', '1966', '1966', '1965', '1965', '1965', '1965', '1965', '1965', '1965', '1965', '1965', '1965', '1965', '1965', '1964', '28', '1954', '1949', '1938', '1951', '1943', '1960', '1953', '1957', '1938', '1950', '30', '1941', '1949', '1958', '1963', '1951', '1943', '1956', '1945', '1946', '1950', '1936', '1960', '1949', '1940', '1956', '1937', '1947', '1952', '32', '1954', '1942', '1949', '1953', '1964', '1945', '1959', '1951', '1956', '1946', '1942', '1949', '1938', '1958', '30', '1948', '1957', '1947', '1962', '1947', '1959', '1942', '1946', '1941', '1945', '1941', '1947', '1936', '1950', '1946', '1938', '1956', '1961', '1952', '29', '1957', '1955', '1935', '29', '1954', '1939', '1960', '1953', '1953', '1950', '1937', '1943', '1964', '1946', '33', '1963', '32', '1949', '1949', '1936', '1965', '1941', '31', '28', '1941', '1934', '1934', '1963', '1947', '1936', '1952', '29', '1936', '1954', '1944', '1938', '1943', '1956', '1963', '1934', '1950', '1937', '1935', '1935', '31', '1960', '1949', '1962', '1943', '1938', '1958', '1942', '1943', '1947', '1957', '1950', '1959', '30', '29', '1962', '30', '1936', '1965', '1947', '28', '32', '1941', '1962', '1955', '1948', '1960', '1957', '1934', '1960', '1955', '1946', '1960', '1940', '33', '1947', '1964', '1963', '1938', '1944', '1947', '32', '1935', '1949', '1943', '1952', '1961', '31', '1945', '1953', '1936', '1944', '1954', '1934', '1947', '1950', '1956', '1958', '1960', '1936', '1959', '1954', '1944', '1935', '1959', '1964', '1939', '1937', '1947', '1939', '1958', '32', '1950', '1940', '1951', '1947', '1941', '1940', '1938', '1936', '1952', '1947', '1961', '1948', '1962', '1950', '1946', '1943', '1949', '1955', '1943', '1946', '1941', '1951', '1954', '1952', '1945', '1959', '1962', '1942', '1960', '1945', '1945', '1941', '1963', '1935', '1963', '1943', '1937', '1961', '1958', '1941', '1944', '1955', '1950', '29', '1937', '1942', '1935', '1955', '1942', '1963', '1934', '1963', '28', '1938', '1948', '1952', '1948', '1942', '1957', '1946', '1961', '1953', '1938', '1948', '1956', '30', '1950', '1940', '1958', '1942', '1950', '33', '1941', '1956', '1961', '1941', '28', '1944', '1952', '1962', '1945', '1941', '1957', '1949', '1937', '1952', '1953', '1963', '1954', '1948', '33', '1949', '1935', '1953', '1962', '1937', '1945', '1955', '1955', '1956', '1956', '1941', '1956', '1934', '1945', '1955', '1964', '1955', '1934', '1935', '1949', '1945', '1940', '31', '1947', '1962', '1955', '1948', '1959', '1943', '33', '1942', '1947', '1952', '1944', '1936', '1939', '1942', '1960', '32', '1962', '1935', '1964', '1958', '1942', '1948', '1945', '1951', '1935', '1952', '1949', '1960', '1964', '1957', '1964', '1944', '1940', '1942', '1963', '1941', '1955', '1958', '1937', '1949', '1954', '1937', '1934', '33', '1953', '1948', '1950', '1963', '29', '1937', '1943', '1940', '1955', '1945', '1959', '1964', '1940', '1951', '1952', '1960', '1959', '1948', '1942', '1940', '1942', '1943', '33', '1937', '1961', '1936', '1938', '1940', '1952', '1945', '1939', '1951', '1946', '1942', '1940', '1956', '1948', '1953', '1963', '1953', '1959', '1955', '1954', '1950', '1955', '1936', '1957', '1935', '1952', '1948', '1948', '1961', '1948', '1946', '1958', '1959', '1941', '1954', '1951', '1946', '1953', '32', '1949', '1947', '1956', '32', '1944', '31', '1961', '1948', '1937', '1949', '33', '1956', '1959', '1956', '1943', '1947', '1960', '1960', '1939', '1958', '1960', '1938', '1942', '1955', '1945', '1961', '1939', '1945', '1953', '1945', '1937', '1945', '1936', '1949', '28', '1951', '1940', '1961', '1962', '28', '1950', '1955', '1941', '1962', '1938', '1936', '1948', '31', '1941', '1940', '28', '1956', '1941', '1938', '1940', '1950', '1944', '1942', '1943', '1943', '1954', '1954', '1957', '33', '1935', '1961', '1965', '1954', '1960', '1954', '1940', '1950', '1953', '1955', '1946', '1962', '1963', '1958', '1953', '1964', '1934', '1937', '1948', '32', '1948', '1945', '1945', '1956', '1947', '1949', '28', '1951', '1961', '1939', '28', '1963', '1946', '1949', '1954', '1960', '1934', '1952', '1937', '1950', '1953', '1943', '1952', '28', '1961', '1940', '1957', '1962', '1939', '1954', '1951', '29', '1958', '1944', '1950', '1944', '28', '1935', '1952', '30', '1944', '1939', '1942', '1945', '1962', '1951', '1964', '32', '1956', '1939', '1942', '1943', '1946', '1964', '1938', '1964', '', '', ''] ['7', '4', '2', '1', '1', '1', '1', '1', '1', '1', '1', '1', '1', '3', '6', '2', '1', '1', '1', '1', '1', '1', '1', '1', '1', '1', '1', '1', '3', '2', '2', '1', '2', '2', '2', '1', '1', '2', '1', '1', '1', '1', '1', '4', '2', '1', '1', '1', '1', '1', '1', '2', '2', '3', '1', '1', '1', '1', '1', '3', '4', '3', '3', '1', '1', '1', '1', '1', '1', '1', '1', '1', '1', '1', '4', '3', '2', '2', '2', '2', '1', '1', '1', '1', '1', '1', '1', '1', '1', '[1]', '3', '6', '2', '2', '1', '1', '1', '1', '1', '1', '1', '1', '1', '1', '1', '2', '6', '3', '1', '1', '1', '1', '1', '1', '1', '1', '1', '1', '1', '1', '1', '4', '4', '3', '1', '1', '1', '1', '1', '1', '1', '1', '1', '1', '1', '1', '1', '3', '7', '3', '2', '2', '1', '1', '1', '1', '1', '1', '1', '3', '4', '3', '2', '2', '2', '1', '1', '1', '1', '1', '1', '1', '1', '1', '5', '5', '2', '1', '1', '1', '1', '1', '1', '1', '1', '1', '1', '1', '1', '4', '4', '3', '2', '2', '2', '1', '1', '1', '1', '1', '1', '1', '6', '3', '2', '2', '2', '1', '1', '1', '1', '1', '1', '1', '1', '1', '8', '3', '2', '2', '1', '1', '1', '1', '1', '1', '1', '1', '1', '4', '3', '2', '2', '1', '1', '1', '1', '1', '1', '1', '1', '1', '1', '1', '1', '1', '4', '3', '2', '2', '2', '1', '1', '1', '1', '1', '1', '1', '1', '1', '1', '1', '3', '3', '3', '3', '1', '1', '1', '1', '1', '1', '1', '1', '1', '1', '1', '1', '4', '5', '2', '2', '1', '1', '1', '1', '1', '1', '1', '1', '1', '1', '1', '11', '2', '2', '1', '1', '1', '1', '1', '1', '1', '1', '1', '6', '3', '2', '2', '1', '1', '1', '1', '1', '1', '1', '1', '1', '1', '1', '4', '4', '2', '2', '1', '1', '1', '1', '1', '1', '1', '1', '1', '1', '1', '1', '5', '4', '4', '1', '1', '1', '1', '1', '1', '1', '1', '1', '1', '5', '4', '2', '2', '1', '1', '1', '1', '1', '1', '1', '1', '1', '1', '7', '5', '3', '1', '1', '1', '1', '1', '1', '1', '1', '1', '11', '2', '2', '2', '1', '1', '1', '1', '1', '1', '1', '9', '2', '1', '1', '1', '1', '1', '1', '1', '1', '1', '1', '1', '1', '1', '5', '2', '2', '2', '2', '1', '1', '1', '1', '1', '1', '1', '1', '1', '1', '1', '0 (1)', '6', '2', '2', '2', '1', '1', '1', '1', '1', '1', '1', '1', '1', '1', '1', '1', '7', '3', '3', '2', '1', '1', '1', '1', '1', '1', '1', '1', '4', '3', '3', '2', '1', '1', '1', '1', '1', '1', '1', '1', '1', '1', '1', '5', '4', '2', '2', '2', '1', '1', '1', '1', '1', '1', '1', '1', '7', '3', '2', '1', '1', '1', '1', '1', '1', '1', '1', '1', '1', '0 (1)', '4', '3', '2', '2', '2', '1', '1', '1', '1', '1', '1', '1', '1', '1', '1', '4', '3', '3 (1)', '1', '1', '1', '1', '1', '1', '1', '1', '1', '1', '1', '1', '1', '9', '3', '1', '1', '1', '1', '1', '1', '1', '1', '1', '1', '0 (1)', '4', '3', '3', '2', '1', '1', '1', '1', '1', '1', '1', '1', '1', '1', '1', '1', '7', '2', '2', '1', '1', '1', '1', '1', '1', '1', '1', '1', '1', '1', '1', '8', '3', '2', '2', '1', '1', '1', '1', '1', '1', '1', '1', '0 (1)', '5', '4', '4', '2', '1', '1', '1', '1', '1', '1', '1', '0 (1)', '8', '4', '2', '1', '1', '1', '1', '1', '1', '1', '1', '1', '1', '4', '4 (1)', '3', '3', '2', '1', '1', '1', '1', '1', '1', '4', '3', '2', '2', '2', '1', '1 (1)', '1', '1', '1', '1', '1', '5', '4', '2', '2', '1', '1', '1', '1', '1', '1', '1', '1', '1', '0 (1)', '5', '3', '2', '1', '1', '1', '1', '1', '1', '1', '1', '1', '1', '1', '0 (1)', '4', '6 (1)', '3', '1 (1)', '1', '1', '1', '1', '1', '1', '1', '1', '3', '4', '4', '2', '1', '1', '1', '1', '1', '1', '1', '1', '0 (1)', '0 (1)', '5', '4', '3', '1', '1', '1', '1', '1', '1', '1', '1', '1', '0 (2)', '6', '3', '2', '1', '1', '1 (1)', '1', '1', '1', '1', '1', '1', '1', '7', '2', '2', '1', '1', '1', '1', '1', '1', '1', '1', '1', '1', '3', '8', '1 (1)', '1', '1', '1', '1', '1', '1', '1', '1', '1', '5', '3', '2', '2', '2', '1', '1', '1', '1', '1', '1', '1', '1', '7', '2', '1', '1', '1', '1', '1', '1', '1', '1', '1', '1', '1', '1', '1', '3', '4', '3', '2', '1', '1', '1', '1', '1', '1', '1', '1', '1', '1', '5 (1)', '3', '2', '1', '1', '1', '1', '1', '1', '1', '1', '1', '1', '1', '1', '1', '0 (1)', '5', '3', '2', '2', '2', '1', '1', '1', '1', '1', '1', '1', '1', '1', '6', '5', '3', '2', '2', '2', '1', '1', '1', '1', '1', '1', '5', '5', '3', '2', '1', '1', '1', '1', '1', '1', '1', '1', '0 (1)', '3', '2', '1', '3', '1', '1', '1', '1', '1', '1', '6', '2', '1', '3', '1', '1', '6', '1', '1', '1', '2', '1', '4', '5', '1', '1', '5', '1', '1', '5', '2', '1', '1', '2', '1', '1', '1', '11', '1', '1', '7 (1)', '1', '0 (1)', '1', '1', '2', '0 (1)', '1', '1', '1', '2', '1', '1', '1', '1', '1', '1', '1', '1', '1', '1', '2', '1', '2', '1', '1', '7', '1', '1', '1', '1', '1', '1', '1', '1', '1', '1', '3', '1', '1', '3', '1', '2', '1', '1', '1', '1', '1', '3', '0 (1)', '1', '1', '1', '4', '1', '1', '1', '1', '1', '2', '1', '1', '1', '1', '1', '1', '1', '1', '1', '1', '1', '1', '1', '1', '1', '1', '2', '1', '1', '1', '1', '1', '3', '1', '1', '1', '1', '1', '1', '2', '1', '1', '1', '1', '1', '1', '3', '1', '1', '1', '1', '1', '1', '0 (2)', '2', '1', '1', '2', '1', '1', '1', '1', '1', '1', '1', '0 (1)', '0 (1)', '1', '1', '8', '0 (1)', '2', '1 (1)', '1', '3', '1', '1', '9', '1', '1', '1', '1', '7', '1', '1', '1', '8 (2)', '2', '1', '1', '1', '1', '1', '2', '1', '2', '1', '1', '1', '3', '2', '1', '1', '4', '1', '1', '1', '1', '4', '1', '1', '0 (1)', '2', '1', '1', '4', '1', '1', '1', '1', '1', '0 (1)', '1', '5', '3', '1', '3', '1', '1', '2', '1', '1', '1', '1', '1', '1', '2', '0 (1)', '4', '1', '1', '1', '5', '1', '0 (1)', '2', '2 (1)', '1', '1', '1', '1', '2', '2', '1', '1', '1', '5', '1', '2', '1', '1', '1', '1', '1', '0 (1)', '1', '1', '1', '1', '1', '1', '7', '1', '1', '1', '2', '3', '1', '1', '1', '0 (2)', '1', '1', '1', '1', '1', '2', '2', '4', '3', '1', '1', '1', '1', '1', '1', '1', '4', '5', '1', '1', '2', '1', '1', '1', '1', '3', '2', '1', '0 (1)', '1', '1', '1', '1', '1', '2', '1', '1', '1', '6', '1', '1', '1', '1', '8', '1', '1', '2', '2', '1', '1', '1', '1', '1', '1', '1', '1', '1', '1', '1', '1', '1', '2', '1', '1', '1', '8', '1', '2', '1', '1', '1', '1', '1', '1', '1', '2', '2', '2', '1', '1', '1', '2', '6', '1', '0 (1)', '1', '1', '1', '1', '1', '1', '1', '1', '1', '1', '1', '1', '2', '1', '1', '0 (1)', '1', '1', '2', '1', '2', '2', '1', '3', '2', '3', '1', '2', '0 (1)', '1', '4', '1', '1', '1', '1 (1)', '1', '1', '1', '2', '1', '2', '1', '1', '1', '1', '1', '1', '0 (1)', '1', '1', '1', '1', '1', '1', '0 (1)', '1', '1', '1', '1', '2', '4', '1 (1)', '1', '1', '1', '1', '4', '0 (1)', '1', '1', '1', '1', '2', '1', '1', '1', '1 (1)', '1', '3', '1', '1', '4', '1', '1', '1', '3', '3', '1', '1', '1', '0 (1)', '1', '1', '1', '0 (1)', '1', '1', '1', '1', '1', '3', '1', '1', '1', '1', '1', '1', '2', '1', '1', '1', '1', '1', '1', '1', '1', '1', '1', '1', '1', '1', '3', '4', '1', '1', '1', '1', '1', '1', '1', '3', '1', '1', '1', '1', '2', '1', '1', '1', '1', '1', '1', '1', '1', '1', '1', '1', '1', '1', '0 (1)', '1', '1', '1', '1', '10', '1', '1', '1', '1', '1', '1', '1', '1', '1', '1', '5', '2', '1', '1', '1', '1', '2', '1', '1', '1', '1', '1', '1', '1', '1', '3', '1', '2', '1', '2', '3', '', '', '7', '4', '2', '1', '1', '1', '1', '1', '1', '1', '1', '1', '1', '3', '6', '2', '1', '1', '1', '1', '1', '1', '1', '1', '1', '1', '1', '1', '3', '2', '2', '1', '2', '2', '2', '1', '1', '2', '1', '1', '1', '1', '1', '4', '2', '1', '1', '1', '1', '1', '1', '2', '2', '3', '1', '1', '1', '1', '1', '3', '4', '3', '3', '1', '1', '1', '1', '1', '1', '1', '1', '1', '1', '1', '4', '3', '2', '2', '2', '2', '1', '1', '1', '1', '1', '1', '1', '1', '1', '[1]', '3', '6', '2', '2', '1', '1', '1', '1', '1', '1', '1', '1', '1', '1', '1', '2', '6', '3', '1', '1', '1', '1', '1', '1', '1', '1', '1', '1', '1', '1', '1', '4', '4', '3', '1', '1', '1', '1', '1', '1', '1', '1', '1', '1', '1', '1', '1', '3', '7', '3', '2', '2', '1', '1', '1', '1', '1', '1', '1', '3', '4', '3', '2', '2', '2', '1', '1', '1', '1', '1', '1', '1', '1', '1', '5', '5', '2', '1', '1', '1', '1', '1', '1', '1', '1', '1', '1', '1', '1', '4', '4', '3', '2', '2', '2', '1', '1', '1', '1', '1', '1', '1', '6', '3', '2', '2', '2', '1', '1', '1', '1', '1', '1', '1', '1', '1', '8', '3', '2', '2', '1', '1', '1', '1', '1', '1', '1', '1', '1', '4', '3', '2', '2', '1', '1', '1', '1', '1', '1', '1', '1', '1', '1', '1', '1', '1', '4', '3', '2', '2', '2', '1', '1', '1', '1', '1', '1', '1', '1', '1', '1', '1', '3', '3', '3', '3', '1', '1', '1', '1', '1', '1', '1', '1', '1', '1', '1', '1', '4', '5', '2', '2', '1', '1', '1', '1', '1', '1', '1', '1', '1', '1', '1', '11', '2', '2', '1', '1', '1', '1', '1', '1', '1', '1', '1', '6', '3', '2', '2', '1', '1', '1', '1', '1', '1', '1', '1', '1', '1', '1', '4', '4', '2', '2', '1', '1', '1', '1', '1', '1', '1', '1', '1', '1', '1', '1', '5', '4', '4', '1', '1', '1', '1', '1', '1', '1', '1', '1', '1', '5', '4', '2', '2', '1', '1', '1', '1', '1', '1', '1', '1', '1', '1', '7', '5', '3', '1', '1', '1', '1', '1', '1', '1', '1', '1', '11', '2', '2', '2', '1', '1', '1', '1', '1', '1', '1', '9', '2', '1', '1', '1', '1', '1', '1', '1', '1', '1', '1', '1', '1', '1', '5', '2', '2', '2', '2', '1', '1', '1', '1', '1', '1', '1', '1', '1', '1', '1', '0 (1)', '6', '2', '2', '2', '1', '1', '1', '1', '1', '1', '1', '1', '1', '1', '1', '1', '7', '3', '3', '2', '1', '1', '1', '1', '1', '1', '1', '1', '4', '3', '3', '2', '1', '1', '1', '1', '1', '1', '1', '1', '1', '1', '1', '5', '4', '2', '2', '2', '1', '1', '1', '1', '1', '1', '1', '1', '7', '3', '2', '1', '1', '1', '1', '1', '1', '1', '1', '1', '1', '0 (1)', '4', '3', '2', '2', '2', '1', '1', '1', '1', '1', '1', '1', '1', '1', '1', '4', '3', '3 (1)', '1', '1', '1', '1', '1', '1', '1', '1', '1', '1', '1', '1', '1', '9', '3', '1', '1', '1', '1', '1', '1', '1', '1', '1', '1', '0 (1)', '4', '3', '3', '2', '1', '1', '1', '1', '1', '1', '1', '1', '1', '1', '1', '1', '7', '2', '2', '1', '1', '1', '1', '1', '1', '1', '1', '1', '1', '1', '1', '8', '3', '2', '2', '1', '1', '1', '1', '1', '1', '1', '1', '0 (1)', '5', '4', '4', '2', '1', '1', '1', '1', '1', '1', '1', '0 (1)', '8', '4', '2', '1', '1', '1', '1', '1', '1', '1', '1', '1', '1', '4', '4 (1)', '3', '3', '2', '1', '1', '1', '1', '1', '1', '4', '3', '2', '2', '2', '1', '1 (1)', '1', '1', '1', '1', '1', '5', '4', '2', '2', '1', '1', '1', '1', '1', '1', '1', '1', '1', '0 (1)', '5', '3', '2', '1', '1', '1', '1', '1', '1', '1', '1', '1', '1', '1', '0 (1)', '4', '6 (1)', '3', '1 (1)', '1', '1', '1', '1', '1', '1', '1', '1', '3', '4', '4', '2', '1', '1', '1', '1', '1', '1', '1', '1', '0 (1)', '0 (1)', '5', '4', '3', '1', '1', '1', '1', '1', '1', '1', '1', '1', '0 (2)', '6', '3', '2', '1', '1', '1 (1)', '1', '1', '1', '1', '1', '1', '1', '7', '2', '2', '1', '1', '1', '1', '1', '1', '1', '1', '1', '1', '3', '8', '1 (1)', '1', '1', '1', '1', '1', '1', '1', '1', '1', '5', '3', '2', '2', '2', '1', '1', '1', '1', '1', '1', '1', '1', '7', '2', '1', '1', '1', '1', '1', '1', '1', '1', '1', '1', '1', '1', '1', '3', '4', '3', '2', '1', '1', '1', '1', '1', '1', '1', '1', '1', '1', '5 (1)', '3', '2', '1', '1', '1', '1', '1', '1', '1', '1', '1', '1', '1', '1', '1', '0 (1)', '5', '3', '2', '2', '2', '1', '1', '1', '1', '1', '1', '1', '1', '1', '6', '5', '3', '2', '2', '2', '1', '1', '1', '1', '1', '1', '5', '5', '3', '2', '1', '1', '1', '1', '1', '1', '1', '1', '0 (1)', '3', '2', '1', '3', '1', '1', '1', '1', '1', '1', '6', '2', '1', '3', '1', '1', '6', '1', '1', '1', '2', '1', '4', '5', '1', '1', '5', '1', '1', '5', '2', '1', '1', '2', '1', '1', '1', '11', '1', '1', '7 (1)', '1', '0 (1)', '1', '1', '2', '0 (1)', '1', '1', '1', '2', '1', '1', '1', '1', '1', '1', '1', '1', '1', '1', '2', '1', '2', '1', '1', '7', '1', '1', '1', '1', '1', '1', '1', '1', '1', '1', '3', '1', '1', '3', '1', '2', '1', '1', '1', '1', '1', '3', '0 (1)', '1', '1', '1', '4', '1', '1', '1', '1', '1', '2', '1', '1', '1', '1', '1', '1', '1', '1', '1', '1', '1', '1', '1', '1', '1', '1', '2', '1', '1', '1', '1', '1', '3', '1', '1', '1', '1', '1', '1', '2', '1', '1', '1', '1', '1', '1', '3', '1', '1', '1', '1', '1', '1', '0 (2)', '2', '1', '1', '2', '1', '1', '1', '1', '1', '1', '1', '0 (1)', '0 (1)', '1', '1', '8', '0 (1)', '2', '1 (1)', '1', '3', '1', '1', '9', '1', '1', '1', '1', '7', '1', '1', '1', '8 (2)', '2', '1', '1', '1', '1', '1', '2', '1', '2', '1', '1', '1', '3', '2', '1', '1', '4', '1', '1', '1', '1', '4', '1', '1', '0 (1)', '2', '1', '1', '4', '1', '1', '1', '1', '1', '0 (1)', '1', '5', '3', '1', '3', '1', '1', '2', '1', '1', '1', '1', '1', '1', '2', '0 (1)', '4', '1', '1', '1', '5', '1', '0 (1)', '2', '2 (1)', '1', '1', '1', '1', '2', '2', '1', '1', '1', '5', '1', '2', '1', '1', '1', '1', '1', '0 (1)', '1', '1', '1', '1', '1', '1', '7', '1', '1', '1', '2', '3', '1', '1', '1', '0 (2)', '1', '1', '1', '1', '1', '2', '2', '4', '3', '1', '1', '1', '1', '1', '1', '1', '4', '5', '1', '1', '2', '1', '1', '1', '1', '3', '2', '1', '0 (1)', '1', '1', '1', '1', '1', '2', '1', '1', '1', '6', '1', '1', '1', '1', '8', '1', '1', '2', '2', '1', '1', '1', '1', '1', '1', '1', '1', '1', '1', '1', '1', '1', '2', '1', '1', '1', '8', '1', '2', '1', '1', '1', '1', '1', '1', '1', '2', '2', '2', '1', '1', '1', '2', '6', '1', '0 (1)', '1', '1', '1', '1', '1', '1', '1', '1', '1', '1', '1', '1', '2', '1', '1', '0 (1)', '1', '1', '2', '1', '2', '2', '1', '3', '2', '3', '1', '2', '0 (1)', '1', '4', '1', '1', '1', '1 (1)', '1', '1', '1', '2', '1', '2', '1', '1', '1', '1', '1', '1', '0 (1)', '1', '1', '1', '1', '1', '1', '0 (1)', '1', '1', '1', '1', '2', '4', '1 (1)', '1', '1', '1', '1', '4', '0 (1)', '1', '1', '1', '1', '2', '1', '1', '1', '1 (1)', '1', '3', '1', '1', '4', '1', '1', '1', '3', '3', '1', '1', '1', '0 (1)', '1', '1', '1', '0 (1)', '1', '1', '1', '1', '1', '3', '1', '1', '1', '1', '1', '1', '2', '1', '1', '1', '1', '1', '1', '1', '1', '1', '1', '1', '1', '1', '3', '4', '1', '1', '1', '1', '1', '1', '1', '3', '1', '1', '1', '1', '2', '1', '1', '1', '1', '1', '1', '1', '1', '1', '1', '1', '1', '1', '0 (1)', '1', '1', '1', '1', '10', '1', '1', '1', '1', '1', '1', '1', '1', '1', '1', '5', '2', '1', '1', '1', '1', '2', '1', '1', '1', '1', '1', '1', '1', '1', '3', '1', '2', '1', '2', '3', '', ''] ['11', '9', '3', '6', '5', '4', '2', '1', '1', '1', '1', '1', '1', '3', '10', '2', '3', '1', '1', '1', '1', '4', '3', '7', '7', '12', '6', '2', '6', '6', '6', '6', '10', '6', '5', '5', '2', '3', '2', '1', '1', '1', '1', '6', '4', '1', '1', '6', '6', '6', '2', '11', '10', '10', '2', '3', '1', '1', '1', '5', '5', '10', '7', '10', '8', '8', '6', '4', '3', '1', '1', '1', '1', '1', '13', '8', '7', '6', '5', '2', '6', '4', '4', '3', '1', '1', '1', '1', '1', '0', '8', '14', '6', '6', '8', '4', '2', '1', '1', '1', '1', '1', '1', '1', '1', '6', '10', '12', '6', '5', '4', '4', '3', '2', '2', '1', '1', '1', '1', '1', '1', '9', '9', '5', '8', '6', '6', '5', '5', '2', '2', '1', '1', '1', '1', '1', '1', '9', '10', '6', '2', '2', '5', '3', '1', '1', '1', '1', '1', '7', '11', '8', '12', '5', '5', '8', '5', '5', '4', '1', '1', '1', '1', '1', '10', '11', '2', '5', '5', '4', '4', '2', '1', '1', '1', '1', '1', '1', '1', '12', '8', '8', '7', '5', '3', '5', '1', '1', '1', '1', '1', '1', '9', '9', '6', '5', '3', '8', '4', '3', '2', '1', '1', '1', '1', '1', '10', '13', '8', '8', '6', '5', '2', '1', '1', '1', '1', '1', '1', '8', '3', '8', '3', '7', '7', '5', '4', '3', '2', '2', '1', '1', '1', '1', '1', '1', '5', '6', '8', '4', '2', '7', '6', '4', '4', '1', '1', '1', '1', '1', '1', '1', '6', '8', '6', '4', '5', '5', '4', '3', '2', '2', '1', '1', '1', '1', '1', '1', '7', '11', '6', '4', '7', '5', '4', '3', '2', '2', '2', '1', '1', '1', '1', '11', '10', '6', '7', '4', '4', '2', '1', '1', '1', '1', '1', '13', '7', '6', '6', '9', '6', '4', '2', '1', '1', '1', '1', '1', '1', '1', '8', '13', '8', '4', '7', '4', '4', '3', '2', '2', '2', '1', '1', '1', '1', '1', '12', '10', '5', '5', '4', '3', '3', '2', '2', '1', '1', '1', '1', '8', '4', '7', '4', '3', '2', '1', '1', '1', '1', '1', '1', '1', '1', '13', '11', '7', '7', '3', '2', '2', '2', '1', '1', '1', '1', '14', '9', '9', '7', '4', '3', '1', '1', '1', '1', '1', '12', '7', '7', '5', '5', '2', '2', '2', '1', '1', '1', '1', '1', '1', '1', '10', '9', '2', '2', '2', '7', '7', '5', '4', '4', '2', '1', '1', '1', '1', '1', '3', '13', '4', '3', '2', '7', '7', '4', '3', '1', '1', '1', '1', '1', '1', '1', '1', '12', '8', '3', '5', '7', '5', '1', '1', '1', '1', '1', '1', '9', '9', '4', '5', '6', '4', '3', '2', '1', '1', '1', '1', '1', '1', '1', '7', '6', '10', '8', '6', '6', '5', '1', '1', '1', '1', '1', '1', '12', '7', '5', '6', '3', '3', '5', '1', '1', '1', '1', '1', '1', '2', '9', '5', '8', '5', '3', '4', '4', '3', '3', '1', '1', '1', '1', '1', '1', '8', '7', '6', '7', '6', '4', '3', '2', '1', '1', '1', '1', '1', '1', '1', '1', '9', '6', '4', '1', '1', '1', '1', '1', '1', '1', '1', '1', '2', '8', '8', '7', '7', '7', '5', '4', '4', '2', '1', '1', '1', '1', '1', '1', '1', '11', '8', '2', '8', '4', '4', '4', '2', '2', '2', '1', '1', '1', '1', '1', '11', '7', '11', '7', '2', '1', '1', '1', '1', '1', '1', '1', '4', '11', '8', '6', '5', '5', '4', '1', '1', '1', '1', '1', '4', '11', '9', '6', '10', '7', '5', '4', '1', '[2]', '1', '1', '1', '1', '7', '8', '12', '10', '4', '1', '1', '1', '1', '1', '1', '6', '6', '8', '6', '3', '7', '3', '1', '1', '1', '1', '1', '9', '9', '8', '4', '5', '2', '2', '2', '1', '1', '1', '1', '1', '2', '9', '8', '6', '9', '4', '3', '3', '1', '1', '1', '1', '1', '1', '1', '3', '5', '10', '11', '8', '5', '2', '1', '1', '1', '1', '1', '1', '10', '10', '8', '6', '4', '2', '2', '1', '1', '1', '1', '1', '2', '2', '9', '7', '4', '6', '5', '4', '4', '1', '1', '1', '1', '1', '3', '11', '8', '2', '11', '6', '4', '3', '[3]', '2', '1', '1', '1', '1', '10', '10', '6', '5', '5', '4', '4', '3', '3', '1', '1', '1', '1', '[4]', '10', '8', '4', '3', '2', '2', '[5]', '[6]', '1', '1', '1', '8', '8', '8', '6', '2', '5', '4', '2', '2', '2', '2', '1', '1', '10', '4', '10', '7', '5', '5', '4', '3', '3', '2', '2', '1', '1', '1', '1', '7', '7', '7', '5', '10', '9', '3', '2', '2', '2', '1', '1', '1', '1', '11', '7', '4', '8', '4', '2', '2', '2', '2', '2', '2', '1', '1', '1', '1', '1', '2', '7', '5', '10', '10', '9', '7', '7', '4', '4', '2', '1', '1', '1', '1', '8', '13', '3', '5', '4', '2', '4', '1', '1', '1', '1', '1', '10', '10', '5', '8', '5', '5', '5', '4', '2', '1', '1', '1', '1', '5', '3', '2', '4', '4', '4', '7', '1', '1', '6', '14', '4', '2', '7', '1', '4', '8', '1', '2', '5', '5', '4', '7', '10', '1', '4', '8', '6', '1', '6', '3', '2', '1', '6', '1', '12', '8', '12', '1', '1', '8', '1', '1', '1', '2', '4', '0', '1', '5', '1', '2', '1', '3', '1', '2', '1', '4', '3', '1', '5', '1', '5', '3', '5', '2', '1', '8', '2', '3', '3', '2', '1', '2', '3', '2', '1', '4', '8', '1', '1', '4', '1', '4', '6', '1', '3', '1', '1', '7', '0', '9', '1', '5', '9', '1', '2', '3', '1', '1', '7', '5', '3', '1', '1', '1', '1', '1', '2', '1', '3', '1', '1', '1', '5', '1', '1', '9', '1', '1', '1', '1', '2', '8', '3', '3', '3', '4', '7', '1', '4', '1', '3', '2', '1', '4', '1', '5', '1', '1', '3', '2', '1', '5', '0', '4', '2', '3', '5', '1', '1', '1', '1', '1', '1', '9', '1', '0', '3', '1', '13', '2', '7', '1', '5', '8', '1', '10', '9', '1', '1', '1', '3', '10', '2', '1', '1', '13', '5', '1', '7', '1', '1', '1', '7', '3', '5', '1', '1', '3', '7', '5', '4', '7', '7', '1', '2', '2', '1', '8', '1', '2', '4', '7', '2', '6', '7', '1', '1', '1', '3', '1', '0', '1', '10', '8', '1', '7', '5', '3', '9', '6', '1', '1', '4', '1', '5', '6', '2', '6', '3', '3', '3', '5', '6', '1', '5', '7', '1', '12', '1', '1', '6', '11', '5', '1', '1', '9', '1', '3', '5', '1', '1', '1', '1', '0', '2', '4', '1', '2', '5', '2', '10', '4', '1', '3', '3', '10', '1', '6', '5', '0', '1', '3', '2', '7', '1', '5', '7', '7', '8', '6', '4', '1', '1', '1', '1', '1', '8', '13', '1', '1', '[7]', '1', '6', '1', '1', '4', '5', '3', '0', '1', '6', '1', '1', '3', '7', '1', '5', '11', '12', '1', '1', '6', '8', '12', '1', '2', '3', '5', '1', '2', '2', '1', '5', '4', '1', '1', '4', '5', '3', '1', '1', '4', '3', '1', '1', '12', '5', '6', '1', '1', '1', '1', '1', '5', '1', '4', '6', '6', '3', '5', '1', '2', '9', '1', '0', '4', '2', '1', '1', '11', '1', '2', '1', '1', '1', '4', '1', '7', '1', '[8]', '1', '4', '3', '11', '1', '5', '5', '1', '10', '6', '8', '6', '5', '0', '6', '10', '1', '1', '1', '4', '1', '1', '1', '7', '1', '11', '5', '1', '1', '6', '3', '1', '1', '1', '1', '9', '4', '1', '6', '1', '1', '1', '2', '6', '3', '12', '2', '1', '7', '1', '3', '6', '0', '1', '1', '6', '2', '7', '1', '3', '1', '7', '2', '4', '1', '3', '12', '3', '1', '3', '[9]', '11', '1', '3', '3', '2', '2', '1', '1', '0', '1', '1', '7', '4', '1', '4', '3', '2', '4', '3', '1', '1', '3', '1', '1', '1', '2', '1', '1', '1', '1', '1', '1', '2', '3', '2', '8', '10', '1', '1', '1', '1', '1', '1', '1', '4', '2', '1', '1', '1', '4', '1', '1', '1', '1', '1', '1', '1', '1', '1', '2', '4', '5', '2', '0', '3', '4', '1', '1', '11', '3', '1', '5', '1', '1', '2', '1', '2', '1', '1', '10', '2', '1', '5', '1', '1', '[10]', '2', '4', '4', '1', '1', '1', '3', '8', '8', '1', '7', '1', '7', '7', '', '', '11', '9', '3', '6', '5', '4', '2', '1', '1', '1', '1', '1', '1', '3', '10', '2', '3', '1', '1', '1', '1', '4', '3', '7', '7', '12', '6', '2', '6', '6', '6', '6', '10', '6', '5', '5', '2', '3', '2', '1', '1', '1', '1', '6', '4', '1', '1', '6', '6', '6', '2', '11', '10', '10', '2', '3', '1', '1', '1', '5', '5', '10', '7', '10', '8', '8', '6', '4', '3', '1', '1', '1', '1', '1', '13', '8', '7', '6', '5', '2', '6', '4', '4', '3', '1', '1', '1', '1', '1', '0', '8', '14', '6', '6', '8', '4', '2', '1', '1', '1', '1', '1', '1', '1', '1', '6', '10', '12', '6', '5', '4', '4', '3', '2', '2', '1', '1', '1', '1', '1', '1', '9', '9', '5', '8', '6', '6', '5', '5', '2', '2', '1', '1', '1', '1', '1', '1', '9', '10', '6', '2', '2', '5', '3', '1', '1', '1', '1', '1', '7', '11', '8', '12', '5', '5', '8', '5', '5', '4', '1', '1', '1', '1', '1', '10', '11', '2', '5', '5', '4', '4', '2', '1', '1', '1', '1', '1', '1', '1', '12', '8', '8', '7', '5', '3', '5', '1', '1', '1', '1', '1', '1', '9', '9', '6', '5', '3', '8', '4', '3', '2', '1', '1', '1', '1', '1', '10', '13', '8', '8', '6', '5', '2', '1', '1', '1', '1', '1', '1', '8', '3', '8', '3', '7', '7', '5', '4', '3', '2', '2', '1', '1', '1', '1', '1', '1', '5', '6', '8', '4', '2', '7', '6', '4', '4', '1', '1', '1', '1', '1', '1', '1', '6', '8', '6', '4', '5', '5', '4', '3', '2', '2', '1', '1', '1', '1', '1', '1', '7', '11', '6', '4', '7', '5', '4', '3', '2', '2', '2', '1', '1', '1', '1', '11', '10', '6', '7', '4', '4', '2', '1', '1', '1', '1', '1', '13', '7', '6', '6', '9', '6', '4', '2', '1', '1', '1', '1', '1', '1', '1', '8', '13', '8', '4', '7', '4', '4', '3', '2', '2', '2', '1', '1', '1', '1', '1', '12', '10', '5', '5', '4', '3', '3', '2', '2', '1', '1', '1', '1', '8', '4', '7', '4', '3', '2', '1', '1', '1', '1', '1', '1', '1', '1', '13', '11', '7', '7', '3', '2', '2', '2', '1', '1', '1', '1', '14', '9', '9', '7', '4', '3', '1', '1', '1', '1', '1', '12', '7', '7', '5', '5', '2', '2', '2', '1', '1', '1', '1', '1', '1', '1', '10', '9', '2', '2', '2', '7', '7', '5', '4', '4', '2', '1', '1', '1', '1', '1', '3', '13', '4', '3', '2', '7', '7', '4', '3', '1', '1', '1', '1', '1', '1', '1', '1', '12', '8', '3', '5', '7', '5', '1', '1', '1', '1', '1', '1', '9', '9', '4', '5', '6', '4', '3', '2', '1', '1', '1', '1', '1', '1', '1', '7', '6', '10', '8', '6', '6', '5', '1', '1', '1', '1', '1', '1', '12', '7', '5', '6', '3', '3', '5', '1', '1', '1', '1', '1', '1', '2', '9', '5', '8', '5', '3', '4', '4', '3', '3', '1', '1', '1', '1', '1', '1', '8', '7', '6', '7', '6', '4', '3', '2', '1', '1', '1', '1', '1', '1', '1', '1', '9', '6', '4', '1', '1', '1', '1', '1', '1', '1', '1', '1', '2', '8', '8', '7', '7', '7', '5', '4', '4', '2', '1', '1', '1', '1', '1', '1', '1', '11', '8', '2', '8', '4', '4', '4', '2', '2', '2', '1', '1', '1', '1', '1', '11', '7', '11', '7', '2', '1', '1', '1', '1', '1', '1', '1', '4', '11', '8', '6', '5', '5', '4', '1', '1', '1', '1', '1', '4', '11', '9', '6', '10', '7', '5', '4', '1', '[2]', '1', '1', '1', '1', '7', '8', '12', '10', '4', '1', '1', '1', '1', '1', '1', '6', '6', '8', '6', '3', '7', '3', '1', '1', '1', '1', '1', '9', '9', '8', '4', '5', '2', '2', '2', '1', '1', '1', '1', '1', '2', '9', '8', '6', '9', '4', '3', '3', '1', '1', '1', '1', '1', '1', '1', '3', '5', '10', '11', '8', '5', '2', '1', '1', '1', '1', '1', '1', '10', '10', '8', '6', '4', '2', '2', '1', '1', '1', '1', '1', '2', '2', '9', '7', '4', '6', '5', '4', '4', '1', '1', '1', '1', '1', '3', '11', '8', '2', '11', '6', '4', '3', '[3]', '2', '1', '1', '1', '1', '10', '10', '6', '5', '5', '4', '4', '3', '3', '1', '1', '1', '1', '[4]', '10', '8', '4', '3', '2', '2', '[5]', '[6]', '1', '1', '1', '8', '8', '8', '6', '2', '5', '4', '2', '2', '2', '2', '1', '1', '10', '4', '10', '7', '5', '5', '4', '3', '3', '2', '2', '1', '1', '1', '1', '7', '7', '7', '5', '10', '9', '3', '2', '2', '2', '1', '1', '1', '1', '11', '7', '4', '8', '4', '2', '2', '2', '2', '2', '2', '1', '1', '1', '1', '1', '2', '7', '5', '10', '10', '9', '7', '7', '4', '4', '2', '1', '1', '1', '1', '8', '13', '3', '5', '4', '2', '4', '1', '1', '1', '1', '1', '10', '10', '5', '8', '5', '5', '5', '4', '2', '1', '1', '1', '1', '5', '3', '2', '4', '4', '4', '7', '1', '1', '6', '14', '4', '2', '7', '1', '4', '8', '1', '2', '5', '5', '4', '7', '10', '1', '4', '8', '6', '1', '6', '3', '2', '1', '6', '1', '12', '8', '12', '1', '1', '8', '1', '1', '1', '2', '4', '0', '1', '5', '1', '2', '1', '3', '1', '2', '1', '4', '3', '1', '5', '1', '5', '3', '5', '2', '1', '8', '2', '3', '3', '2', '1', '2', '3', '2', '1', '4', '8', '1', '1', '4', '1', '4', '6', '1', '3', '1', '1', '7', '0', '9', '1', '5', '9', '1', '2', '3', '1', '1', '7', '5', '3', '1', '1', '1', '1', '1', '2', '1', '3', '1', '1', '1', '5', '1', '1', '9', '1', '1', '1', '1', '2', '8', '3', '3', '3', '4', '7', '1', '4', '1', '3', '2', '1', '4', '1', '5', '1', '1', '3', '2', '1', '5', '0', '4', '2', '3', '5', '1', '1', '1', '1', '1', '1', '9', '1', '0', '3', '1', '13', '2', '7', '1', '5', '8', '1', '10', '9', '1', '1', '1', '3', '10', '2', '1', '1', '13', '5', '1', '7', '1', '1', '1', '7', '3', '5', '1', '1', '3', '7', '5', '4', '7', '7', '1', '2', '2', '1', '8', '1', '2', '4', '7', '2', '6', '7', '1', '1', '1', '3', '1', '0', '1', '10', '8', '1', '7', '5', '3', '9', '6', '1', '1', '4', '1', '5', '6', '2', '6', '3', '3', '3', '5', '6', '1', '5', '7', '1', '12', '1', '1', '6', '11', '5', '1', '1', '9', '1', '3', '5', '1', '1', '1', '1', '0', '2', '4', '1', '2', '5', '2', '10', '4', '1', '3', '3', '10', '1', '6', '5', '0', '1', '3', '2', '7', '1', '5', '7', '7', '8', '6', '4', '1', '1', '1', '1', '1', '8', '13', '1', '1', '[7]', '1', '6', '1', '1', '4', '5', '3', '0', '1', '6', '1', '1', '3', '7', '1', '5', '11', '12', '1', '1', '6', '8', '12', '1', '2', '3', '5', '1', '2', '2', '1', '5', '4', '1', '1', '4', '5', '3', '1', '1', '4', '3', '1', '1', '12', '5', '6', '1', '1', '1', '1', '1', '5', '1', '4', '6', '6', '3', '5', '1', '2', '9', '1', '0', '4', '2', '1', '1', '11', '1', '2', '1', '1', '1', '4', '1', '7', '1', '[8]', '1', '4', '3', '11', '1', '5', '5', '1', '10', '6', '8', '6', '5', '0', '6', '10', '1', '1', '1', '4', '1', '1', '1', '7', '1', '11', '5', '1', '1', '6', '3', '1', '1', '1', '1', '9', '4', '1', '6', '1', '1', '1', '2', '6', '3', '12', '2', '1', '7', '1', '3', '6', '0', '1', '1', '6', '2', '7', '1', '3', '1', '7', '2', '4', '1', '3', '12', '3', '1', '3', '[9]', '11', '1', '3', '3', '2', '2', '1', '1', '0', '1', '1', '7', '4', '1', '4', '3', '2', '4', '3', '1', '1', '3', '1', '1', '1', '2', '1', '1', '1', '1', '1', '1', '2', '3', '2', '8', '10', '1', '1', '1', '1', '1', '1', '1', '4', '2', '1', '1', '1', '4', '1', '1', '1', '1', '1', '1', '1', '1', '1', '2', '4', '5', '2', '0', '3', '4', '1', '1', '11', '3', '1', '5', '1', '1', '2', '1', '2', '1', '1', '10', '2', '1', '5', '1', '1', '[10]', '2', '4', '4', '1', '1', '1', '3', '8', '8', '1', '7', '1', '7', '7', '', '']\n"
          ]
        }
      ]
    },
    {
      "cell_type": "code",
      "source": [
        "len(Film)\n"
      ],
      "metadata": {
        "colab": {
          "base_uri": "https://localhost:8080/"
        },
        "id": "RIPH7olwcTyE",
        "outputId": "9b4cdc02-e243-401a-e683-a1a0fe379de9"
      },
      "execution_count": null,
      "outputs": [
        {
          "output_type": "execute_result",
          "data": {
            "text/plain": [
              "1363"
            ]
          },
          "metadata": {},
          "execution_count": 21
        }
      ]
    },
    {
      "cell_type": "code",
      "source": [
        "len(Year)"
      ],
      "metadata": {
        "colab": {
          "base_uri": "https://localhost:8080/"
        },
        "id": "7YszyW4AcT0x",
        "outputId": "ac76c894-b9d6-41ae-d232-cd868902ce93"
      },
      "execution_count": null,
      "outputs": [
        {
          "output_type": "execute_result",
          "data": {
            "text/plain": [
              "1363"
            ]
          },
          "metadata": {},
          "execution_count": 22
        }
      ]
    },
    {
      "cell_type": "code",
      "source": [
        "len(Award)"
      ],
      "metadata": {
        "colab": {
          "base_uri": "https://localhost:8080/"
        },
        "id": "IToIhuXVcT3I",
        "outputId": "cb54b5f1-8422-4cd1-bf69-2147779e329b"
      },
      "execution_count": null,
      "outputs": [
        {
          "output_type": "execute_result",
          "data": {
            "text/plain": [
              "1362"
            ]
          },
          "metadata": {},
          "execution_count": 23
        }
      ]
    },
    {
      "cell_type": "code",
      "source": [
        "len(Nomination)"
      ],
      "metadata": {
        "colab": {
          "base_uri": "https://localhost:8080/"
        },
        "id": "AIQL0nWwcT5i",
        "outputId": "772cc022-18a1-43a3-d1c6-19a6c0c98647"
      },
      "execution_count": null,
      "outputs": [
        {
          "output_type": "execute_result",
          "data": {
            "text/plain": [
              "1362"
            ]
          },
          "metadata": {},
          "execution_count": 24
        }
      ]
    },
    {
      "cell_type": "code",
      "source": [
        "# len is not same -> Do analysis"
      ],
      "metadata": {
        "id": "y7GI1ntOcT-T"
      },
      "execution_count": null,
      "outputs": []
    },
    {
      "cell_type": "code",
      "source": [
        "Film[-1]\n",
        "# -1, -2, -3"
      ],
      "metadata": {
        "colab": {
          "base_uri": "https://localhost:8080/",
          "height": 36
        },
        "id": "giknnCOycUAX",
        "outputId": "6e07003f-e6b9-4313-c288-37d5765472d7"
      },
      "execution_count": null,
      "outputs": [
        {
          "output_type": "execute_result",
          "data": {
            "text/plain": [
              "''"
            ],
            "application/vnd.google.colaboratory.intrinsic+json": {
              "type": "string"
            }
          },
          "metadata": {},
          "execution_count": 56
        }
      ]
    },
    {
      "cell_type": "code",
      "source": [
        "Film[1359]\n",
        "# Take data till 1359\n",
        "# So df -> 1360"
      ],
      "metadata": {
        "colab": {
          "base_uri": "https://localhost:8080/",
          "height": 36
        },
        "id": "L90P_6WQcUDA",
        "outputId": "a20c3e3f-ecea-4916-9de3-658a70c2b25d"
      },
      "execution_count": null,
      "outputs": [
        {
          "output_type": "execute_result",
          "data": {
            "text/plain": [
              "'Zorba the Greek'"
            ],
            "application/vnd.google.colaboratory.intrinsic+json": {
              "type": "string"
            }
          },
          "metadata": {},
          "execution_count": 36
        }
      ]
    },
    {
      "cell_type": "code",
      "source": [
        "Year[1359]"
      ],
      "metadata": {
        "colab": {
          "base_uri": "https://localhost:8080/",
          "height": 36
        },
        "id": "_E-KenOGcUFJ",
        "outputId": "b1c48b0a-641e-41ce-860b-b67ffade03ed"
      },
      "execution_count": null,
      "outputs": [
        {
          "output_type": "execute_result",
          "data": {
            "text/plain": [
              "'1964'"
            ],
            "application/vnd.google.colaboratory.intrinsic+json": {
              "type": "string"
            }
          },
          "metadata": {},
          "execution_count": 37
        }
      ]
    },
    {
      "cell_type": "code",
      "source": [
        "Award[1359]"
      ],
      "metadata": {
        "colab": {
          "base_uri": "https://localhost:8080/",
          "height": 36
        },
        "id": "FAKudkUDcUHN",
        "outputId": "429d467f-e28c-48f2-d434-e527a0fd8fcb"
      },
      "execution_count": null,
      "outputs": [
        {
          "output_type": "execute_result",
          "data": {
            "text/plain": [
              "'3'"
            ],
            "application/vnd.google.colaboratory.intrinsic+json": {
              "type": "string"
            }
          },
          "metadata": {},
          "execution_count": 38
        }
      ]
    },
    {
      "cell_type": "code",
      "source": [
        "Nomination[1359]"
      ],
      "metadata": {
        "colab": {
          "base_uri": "https://localhost:8080/",
          "height": 36
        },
        "id": "7HImJkKmcUJc",
        "outputId": "e0d07157-d3ef-4932-e2f7-6ad45a7b875f"
      },
      "execution_count": null,
      "outputs": [
        {
          "output_type": "execute_result",
          "data": {
            "text/plain": [
              "'7'"
            ],
            "application/vnd.google.colaboratory.intrinsic+json": {
              "type": "string"
            }
          },
          "metadata": {},
          "execution_count": 39
        }
      ]
    },
    {
      "cell_type": "markdown",
      "source": [
        "# Converted to DataFrame after cleaning"
      ],
      "metadata": {
        "id": "9Fhsez06ISPx"
      }
    },
    {
      "cell_type": "code",
      "source": [
        "# Convert to DataFrame\n",
        "oscar = pd.DataFrame({'Film': Film[:1360],\n",
        "                      'Year': Year[:1360],\n",
        "                      'Award': Award[:1360],\n",
        "                      'Nomination': Nomination[:1360]})"
      ],
      "metadata": {
        "id": "LVzBXjeRcULt"
      },
      "execution_count": null,
      "outputs": []
    },
    {
      "cell_type": "code",
      "source": [
        "oscar.head()"
      ],
      "metadata": {
        "colab": {
          "base_uri": "https://localhost:8080/",
          "height": 394
        },
        "id": "JTQX8Lk1cUN0",
        "outputId": "4387dc76-3036-4ad5-8b06-6077013265e7"
      },
      "execution_count": null,
      "outputs": [
        {
          "output_type": "execute_result",
          "data": {
            "text/plain": [
              "                                Film  Year Award Nomination\n",
              "0  Everything Everywhere All at Once  2022     7         11\n",
              "1     All Quiet on the Western Front  2022     4          9\n",
              "2                          The Whale  2022     2          3\n",
              "3                  Top Gun: Maverick  2022     1          6\n",
              "4     Black Panther: Wakanda Forever  2022     1          5"
            ],
            "text/html": [
              "\n",
              "  <div id=\"df-43dae488-3f8c-4fe3-8263-07746962ab5d\">\n",
              "    <div class=\"colab-df-container\">\n",
              "      <div>\n",
              "<style scoped>\n",
              "    .dataframe tbody tr th:only-of-type {\n",
              "        vertical-align: middle;\n",
              "    }\n",
              "\n",
              "    .dataframe tbody tr th {\n",
              "        vertical-align: top;\n",
              "    }\n",
              "\n",
              "    .dataframe thead th {\n",
              "        text-align: right;\n",
              "    }\n",
              "</style>\n",
              "<table border=\"1\" class=\"dataframe\">\n",
              "  <thead>\n",
              "    <tr style=\"text-align: right;\">\n",
              "      <th></th>\n",
              "      <th>Film</th>\n",
              "      <th>Year</th>\n",
              "      <th>Award</th>\n",
              "      <th>Nomination</th>\n",
              "    </tr>\n",
              "  </thead>\n",
              "  <tbody>\n",
              "    <tr>\n",
              "      <th>0</th>\n",
              "      <td>Everything Everywhere All at Once</td>\n",
              "      <td>2022</td>\n",
              "      <td>7</td>\n",
              "      <td>11</td>\n",
              "    </tr>\n",
              "    <tr>\n",
              "      <th>1</th>\n",
              "      <td>All Quiet on the Western Front</td>\n",
              "      <td>2022</td>\n",
              "      <td>4</td>\n",
              "      <td>9</td>\n",
              "    </tr>\n",
              "    <tr>\n",
              "      <th>2</th>\n",
              "      <td>The Whale</td>\n",
              "      <td>2022</td>\n",
              "      <td>2</td>\n",
              "      <td>3</td>\n",
              "    </tr>\n",
              "    <tr>\n",
              "      <th>3</th>\n",
              "      <td>Top Gun: Maverick</td>\n",
              "      <td>2022</td>\n",
              "      <td>1</td>\n",
              "      <td>6</td>\n",
              "    </tr>\n",
              "    <tr>\n",
              "      <th>4</th>\n",
              "      <td>Black Panther: Wakanda Forever</td>\n",
              "      <td>2022</td>\n",
              "      <td>1</td>\n",
              "      <td>5</td>\n",
              "    </tr>\n",
              "  </tbody>\n",
              "</table>\n",
              "</div>\n",
              "      <button class=\"colab-df-convert\" onclick=\"convertToInteractive('df-43dae488-3f8c-4fe3-8263-07746962ab5d')\"\n",
              "              title=\"Convert this dataframe to an interactive table.\"\n",
              "              style=\"display:none;\">\n",
              "        \n",
              "  <svg xmlns=\"http://www.w3.org/2000/svg\" height=\"24px\"viewBox=\"0 0 24 24\"\n",
              "       width=\"24px\">\n",
              "    <path d=\"M0 0h24v24H0V0z\" fill=\"none\"/>\n",
              "    <path d=\"M18.56 5.44l.94 2.06.94-2.06 2.06-.94-2.06-.94-.94-2.06-.94 2.06-2.06.94zm-11 1L8.5 8.5l.94-2.06 2.06-.94-2.06-.94L8.5 2.5l-.94 2.06-2.06.94zm10 10l.94 2.06.94-2.06 2.06-.94-2.06-.94-.94-2.06-.94 2.06-2.06.94z\"/><path d=\"M17.41 7.96l-1.37-1.37c-.4-.4-.92-.59-1.43-.59-.52 0-1.04.2-1.43.59L10.3 9.45l-7.72 7.72c-.78.78-.78 2.05 0 2.83L4 21.41c.39.39.9.59 1.41.59.51 0 1.02-.2 1.41-.59l7.78-7.78 2.81-2.81c.8-.78.8-2.07 0-2.86zM5.41 20L4 18.59l7.72-7.72 1.47 1.35L5.41 20z\"/>\n",
              "  </svg>\n",
              "      </button>\n",
              "      \n",
              "  <style>\n",
              "    .colab-df-container {\n",
              "      display:flex;\n",
              "      flex-wrap:wrap;\n",
              "      gap: 12px;\n",
              "    }\n",
              "\n",
              "    .colab-df-convert {\n",
              "      background-color: #E8F0FE;\n",
              "      border: none;\n",
              "      border-radius: 50%;\n",
              "      cursor: pointer;\n",
              "      display: none;\n",
              "      fill: #1967D2;\n",
              "      height: 32px;\n",
              "      padding: 0 0 0 0;\n",
              "      width: 32px;\n",
              "    }\n",
              "\n",
              "    .colab-df-convert:hover {\n",
              "      background-color: #E2EBFA;\n",
              "      box-shadow: 0px 1px 2px rgba(60, 64, 67, 0.3), 0px 1px 3px 1px rgba(60, 64, 67, 0.15);\n",
              "      fill: #174EA6;\n",
              "    }\n",
              "\n",
              "    [theme=dark] .colab-df-convert {\n",
              "      background-color: #3B4455;\n",
              "      fill: #D2E3FC;\n",
              "    }\n",
              "\n",
              "    [theme=dark] .colab-df-convert:hover {\n",
              "      background-color: #434B5C;\n",
              "      box-shadow: 0px 1px 3px 1px rgba(0, 0, 0, 0.15);\n",
              "      filter: drop-shadow(0px 1px 2px rgba(0, 0, 0, 0.3));\n",
              "      fill: #FFFFFF;\n",
              "    }\n",
              "  </style>\n",
              "\n",
              "      <script>\n",
              "        const buttonEl =\n",
              "          document.querySelector('#df-43dae488-3f8c-4fe3-8263-07746962ab5d button.colab-df-convert');\n",
              "        buttonEl.style.display =\n",
              "          google.colab.kernel.accessAllowed ? 'block' : 'none';\n",
              "\n",
              "        async function convertToInteractive(key) {\n",
              "          const element = document.querySelector('#df-43dae488-3f8c-4fe3-8263-07746962ab5d');\n",
              "          const dataTable =\n",
              "            await google.colab.kernel.invokeFunction('convertToInteractive',\n",
              "                                                     [key], {});\n",
              "          if (!dataTable) return;\n",
              "\n",
              "          const docLinkHtml = 'Like what you see? Visit the ' +\n",
              "            '<a target=\"_blank\" href=https://colab.research.google.com/notebooks/data_table.ipynb>data table notebook</a>'\n",
              "            + ' to learn more about interactive tables.';\n",
              "          element.innerHTML = '';\n",
              "          dataTable['output_type'] = 'display_data';\n",
              "          await google.colab.output.renderOutput(dataTable, element);\n",
              "          const docLink = document.createElement('div');\n",
              "          docLink.innerHTML = docLinkHtml;\n",
              "          element.appendChild(docLink);\n",
              "        }\n",
              "      </script>\n",
              "    </div>\n",
              "  </div>\n",
              "  "
            ]
          },
          "metadata": {},
          "execution_count": 43
        },
        {
          "output_type": "execute_result",
          "data": {
            "text/plain": [
              "                                Film  Year Award Nomination\n",
              "0  Everything Everywhere All at Once  2022     7         11\n",
              "1     All Quiet on the Western Front  2022     4          9\n",
              "2                          The Whale  2022     2          3\n",
              "3                  Top Gun: Maverick  2022     1          6\n",
              "4     Black Panther: Wakanda Forever  2022     1          5"
            ],
            "text/html": [
              "\n",
              "  <div id=\"df-7b785a25-c87f-419d-8496-730b89224fbe\">\n",
              "    <div class=\"colab-df-container\">\n",
              "      <div>\n",
              "<style scoped>\n",
              "    .dataframe tbody tr th:only-of-type {\n",
              "        vertical-align: middle;\n",
              "    }\n",
              "\n",
              "    .dataframe tbody tr th {\n",
              "        vertical-align: top;\n",
              "    }\n",
              "\n",
              "    .dataframe thead th {\n",
              "        text-align: right;\n",
              "    }\n",
              "</style>\n",
              "<table border=\"1\" class=\"dataframe\">\n",
              "  <thead>\n",
              "    <tr style=\"text-align: right;\">\n",
              "      <th></th>\n",
              "      <th>Film</th>\n",
              "      <th>Year</th>\n",
              "      <th>Award</th>\n",
              "      <th>Nomination</th>\n",
              "    </tr>\n",
              "  </thead>\n",
              "  <tbody>\n",
              "    <tr>\n",
              "      <th>0</th>\n",
              "      <td>Everything Everywhere All at Once</td>\n",
              "      <td>2022</td>\n",
              "      <td>7</td>\n",
              "      <td>11</td>\n",
              "    </tr>\n",
              "    <tr>\n",
              "      <th>1</th>\n",
              "      <td>All Quiet on the Western Front</td>\n",
              "      <td>2022</td>\n",
              "      <td>4</td>\n",
              "      <td>9</td>\n",
              "    </tr>\n",
              "    <tr>\n",
              "      <th>2</th>\n",
              "      <td>The Whale</td>\n",
              "      <td>2022</td>\n",
              "      <td>2</td>\n",
              "      <td>3</td>\n",
              "    </tr>\n",
              "    <tr>\n",
              "      <th>3</th>\n",
              "      <td>Top Gun: Maverick</td>\n",
              "      <td>2022</td>\n",
              "      <td>1</td>\n",
              "      <td>6</td>\n",
              "    </tr>\n",
              "    <tr>\n",
              "      <th>4</th>\n",
              "      <td>Black Panther: Wakanda Forever</td>\n",
              "      <td>2022</td>\n",
              "      <td>1</td>\n",
              "      <td>5</td>\n",
              "    </tr>\n",
              "  </tbody>\n",
              "</table>\n",
              "</div>\n",
              "      <button class=\"colab-df-convert\" onclick=\"convertToInteractive('df-7b785a25-c87f-419d-8496-730b89224fbe')\"\n",
              "              title=\"Convert this dataframe to an interactive table.\"\n",
              "              style=\"display:none;\">\n",
              "        \n",
              "  <svg xmlns=\"http://www.w3.org/2000/svg\" height=\"24px\"viewBox=\"0 0 24 24\"\n",
              "       width=\"24px\">\n",
              "    <path d=\"M0 0h24v24H0V0z\" fill=\"none\"/>\n",
              "    <path d=\"M18.56 5.44l.94 2.06.94-2.06 2.06-.94-2.06-.94-.94-2.06-.94 2.06-2.06.94zm-11 1L8.5 8.5l.94-2.06 2.06-.94-2.06-.94L8.5 2.5l-.94 2.06-2.06.94zm10 10l.94 2.06.94-2.06 2.06-.94-2.06-.94-.94-2.06-.94 2.06-2.06.94z\"/><path d=\"M17.41 7.96l-1.37-1.37c-.4-.4-.92-.59-1.43-.59-.52 0-1.04.2-1.43.59L10.3 9.45l-7.72 7.72c-.78.78-.78 2.05 0 2.83L4 21.41c.39.39.9.59 1.41.59.51 0 1.02-.2 1.41-.59l7.78-7.78 2.81-2.81c.8-.78.8-2.07 0-2.86zM5.41 20L4 18.59l7.72-7.72 1.47 1.35L5.41 20z\"/>\n",
              "  </svg>\n",
              "      </button>\n",
              "      \n",
              "  <style>\n",
              "    .colab-df-container {\n",
              "      display:flex;\n",
              "      flex-wrap:wrap;\n",
              "      gap: 12px;\n",
              "    }\n",
              "\n",
              "    .colab-df-convert {\n",
              "      background-color: #E8F0FE;\n",
              "      border: none;\n",
              "      border-radius: 50%;\n",
              "      cursor: pointer;\n",
              "      display: none;\n",
              "      fill: #1967D2;\n",
              "      height: 32px;\n",
              "      padding: 0 0 0 0;\n",
              "      width: 32px;\n",
              "    }\n",
              "\n",
              "    .colab-df-convert:hover {\n",
              "      background-color: #E2EBFA;\n",
              "      box-shadow: 0px 1px 2px rgba(60, 64, 67, 0.3), 0px 1px 3px 1px rgba(60, 64, 67, 0.15);\n",
              "      fill: #174EA6;\n",
              "    }\n",
              "\n",
              "    [theme=dark] .colab-df-convert {\n",
              "      background-color: #3B4455;\n",
              "      fill: #D2E3FC;\n",
              "    }\n",
              "\n",
              "    [theme=dark] .colab-df-convert:hover {\n",
              "      background-color: #434B5C;\n",
              "      box-shadow: 0px 1px 3px 1px rgba(0, 0, 0, 0.15);\n",
              "      filter: drop-shadow(0px 1px 2px rgba(0, 0, 0, 0.3));\n",
              "      fill: #FFFFFF;\n",
              "    }\n",
              "  </style>\n",
              "\n",
              "      <script>\n",
              "        const buttonEl =\n",
              "          document.querySelector('#df-7b785a25-c87f-419d-8496-730b89224fbe button.colab-df-convert');\n",
              "        buttonEl.style.display =\n",
              "          google.colab.kernel.accessAllowed ? 'block' : 'none';\n",
              "\n",
              "        async function convertToInteractive(key) {\n",
              "          const element = document.querySelector('#df-7b785a25-c87f-419d-8496-730b89224fbe');\n",
              "          const dataTable =\n",
              "            await google.colab.kernel.invokeFunction('convertToInteractive',\n",
              "                                                     [key], {});\n",
              "          if (!dataTable) return;\n",
              "\n",
              "          const docLinkHtml = 'Like what you see? Visit the ' +\n",
              "            '<a target=\"_blank\" href=https://colab.research.google.com/notebooks/data_table.ipynb>data table notebook</a>'\n",
              "            + ' to learn more about interactive tables.';\n",
              "          element.innerHTML = '';\n",
              "          dataTable['output_type'] = 'display_data';\n",
              "          await google.colab.output.renderOutput(dataTable, element);\n",
              "          const docLink = document.createElement('div');\n",
              "          docLink.innerHTML = docLinkHtml;\n",
              "          element.appendChild(docLink);\n",
              "        }\n",
              "      </script>\n",
              "    </div>\n",
              "  </div>\n",
              "  "
            ]
          },
          "metadata": {},
          "execution_count": 44
        }
      ]
    },
    {
      "cell_type": "code",
      "source": [
        "oscar.tail()"
      ],
      "metadata": {
        "colab": {
          "base_uri": "https://localhost:8080/",
          "height": 206
        },
        "id": "GgYb5bUKcUP8",
        "outputId": "7db6ba44-212d-48e0-e3fb-730271bd2903"
      },
      "execution_count": null,
      "outputs": [
        {
          "output_type": "execute_result",
          "data": {
            "text/plain": [
              "                               Film  Year Award Nomination\n",
              "1355        The Yankee Doodle Mouse  1943     1          1\n",
              "1356                   The Yearling  1946     2          7\n",
              "1357  Yesterday, Today and Tomorrow  1964     1          1\n",
              "1358     You Can't Take It with You  1938     2          7\n",
              "1359                Zorba the Greek  1964     3          7"
            ],
            "text/html": [
              "\n",
              "  <div id=\"df-0b3e4d14-6658-4a5c-9a9a-5f969ac643ed\">\n",
              "    <div class=\"colab-df-container\">\n",
              "      <div>\n",
              "<style scoped>\n",
              "    .dataframe tbody tr th:only-of-type {\n",
              "        vertical-align: middle;\n",
              "    }\n",
              "\n",
              "    .dataframe tbody tr th {\n",
              "        vertical-align: top;\n",
              "    }\n",
              "\n",
              "    .dataframe thead th {\n",
              "        text-align: right;\n",
              "    }\n",
              "</style>\n",
              "<table border=\"1\" class=\"dataframe\">\n",
              "  <thead>\n",
              "    <tr style=\"text-align: right;\">\n",
              "      <th></th>\n",
              "      <th>Film</th>\n",
              "      <th>Year</th>\n",
              "      <th>Award</th>\n",
              "      <th>Nomination</th>\n",
              "    </tr>\n",
              "  </thead>\n",
              "  <tbody>\n",
              "    <tr>\n",
              "      <th>1355</th>\n",
              "      <td>The Yankee Doodle Mouse</td>\n",
              "      <td>1943</td>\n",
              "      <td>1</td>\n",
              "      <td>1</td>\n",
              "    </tr>\n",
              "    <tr>\n",
              "      <th>1356</th>\n",
              "      <td>The Yearling</td>\n",
              "      <td>1946</td>\n",
              "      <td>2</td>\n",
              "      <td>7</td>\n",
              "    </tr>\n",
              "    <tr>\n",
              "      <th>1357</th>\n",
              "      <td>Yesterday, Today and Tomorrow</td>\n",
              "      <td>1964</td>\n",
              "      <td>1</td>\n",
              "      <td>1</td>\n",
              "    </tr>\n",
              "    <tr>\n",
              "      <th>1358</th>\n",
              "      <td>You Can't Take It with You</td>\n",
              "      <td>1938</td>\n",
              "      <td>2</td>\n",
              "      <td>7</td>\n",
              "    </tr>\n",
              "    <tr>\n",
              "      <th>1359</th>\n",
              "      <td>Zorba the Greek</td>\n",
              "      <td>1964</td>\n",
              "      <td>3</td>\n",
              "      <td>7</td>\n",
              "    </tr>\n",
              "  </tbody>\n",
              "</table>\n",
              "</div>\n",
              "      <button class=\"colab-df-convert\" onclick=\"convertToInteractive('df-0b3e4d14-6658-4a5c-9a9a-5f969ac643ed')\"\n",
              "              title=\"Convert this dataframe to an interactive table.\"\n",
              "              style=\"display:none;\">\n",
              "        \n",
              "  <svg xmlns=\"http://www.w3.org/2000/svg\" height=\"24px\"viewBox=\"0 0 24 24\"\n",
              "       width=\"24px\">\n",
              "    <path d=\"M0 0h24v24H0V0z\" fill=\"none\"/>\n",
              "    <path d=\"M18.56 5.44l.94 2.06.94-2.06 2.06-.94-2.06-.94-.94-2.06-.94 2.06-2.06.94zm-11 1L8.5 8.5l.94-2.06 2.06-.94-2.06-.94L8.5 2.5l-.94 2.06-2.06.94zm10 10l.94 2.06.94-2.06 2.06-.94-2.06-.94-.94-2.06-.94 2.06-2.06.94z\"/><path d=\"M17.41 7.96l-1.37-1.37c-.4-.4-.92-.59-1.43-.59-.52 0-1.04.2-1.43.59L10.3 9.45l-7.72 7.72c-.78.78-.78 2.05 0 2.83L4 21.41c.39.39.9.59 1.41.59.51 0 1.02-.2 1.41-.59l7.78-7.78 2.81-2.81c.8-.78.8-2.07 0-2.86zM5.41 20L4 18.59l7.72-7.72 1.47 1.35L5.41 20z\"/>\n",
              "  </svg>\n",
              "      </button>\n",
              "      \n",
              "  <style>\n",
              "    .colab-df-container {\n",
              "      display:flex;\n",
              "      flex-wrap:wrap;\n",
              "      gap: 12px;\n",
              "    }\n",
              "\n",
              "    .colab-df-convert {\n",
              "      background-color: #E8F0FE;\n",
              "      border: none;\n",
              "      border-radius: 50%;\n",
              "      cursor: pointer;\n",
              "      display: none;\n",
              "      fill: #1967D2;\n",
              "      height: 32px;\n",
              "      padding: 0 0 0 0;\n",
              "      width: 32px;\n",
              "    }\n",
              "\n",
              "    .colab-df-convert:hover {\n",
              "      background-color: #E2EBFA;\n",
              "      box-shadow: 0px 1px 2px rgba(60, 64, 67, 0.3), 0px 1px 3px 1px rgba(60, 64, 67, 0.15);\n",
              "      fill: #174EA6;\n",
              "    }\n",
              "\n",
              "    [theme=dark] .colab-df-convert {\n",
              "      background-color: #3B4455;\n",
              "      fill: #D2E3FC;\n",
              "    }\n",
              "\n",
              "    [theme=dark] .colab-df-convert:hover {\n",
              "      background-color: #434B5C;\n",
              "      box-shadow: 0px 1px 3px 1px rgba(0, 0, 0, 0.15);\n",
              "      filter: drop-shadow(0px 1px 2px rgba(0, 0, 0, 0.3));\n",
              "      fill: #FFFFFF;\n",
              "    }\n",
              "  </style>\n",
              "\n",
              "      <script>\n",
              "        const buttonEl =\n",
              "          document.querySelector('#df-0b3e4d14-6658-4a5c-9a9a-5f969ac643ed button.colab-df-convert');\n",
              "        buttonEl.style.display =\n",
              "          google.colab.kernel.accessAllowed ? 'block' : 'none';\n",
              "\n",
              "        async function convertToInteractive(key) {\n",
              "          const element = document.querySelector('#df-0b3e4d14-6658-4a5c-9a9a-5f969ac643ed');\n",
              "          const dataTable =\n",
              "            await google.colab.kernel.invokeFunction('convertToInteractive',\n",
              "                                                     [key], {});\n",
              "          if (!dataTable) return;\n",
              "\n",
              "          const docLinkHtml = 'Like what you see? Visit the ' +\n",
              "            '<a target=\"_blank\" href=https://colab.research.google.com/notebooks/data_table.ipynb>data table notebook</a>'\n",
              "            + ' to learn more about interactive tables.';\n",
              "          element.innerHTML = '';\n",
              "          dataTable['output_type'] = 'display_data';\n",
              "          await google.colab.output.renderOutput(dataTable, element);\n",
              "          const docLink = document.createElement('div');\n",
              "          docLink.innerHTML = docLinkHtml;\n",
              "          element.appendChild(docLink);\n",
              "        }\n",
              "      </script>\n",
              "    </div>\n",
              "  </div>\n",
              "  "
            ]
          },
          "metadata": {},
          "execution_count": 45
        }
      ]
    },
    {
      "cell_type": "code",
      "source": [
        "oscar.info()"
      ],
      "metadata": {
        "colab": {
          "base_uri": "https://localhost:8080/"
        },
        "id": "tF16RyfrcUSa",
        "outputId": "4260c3e3-6f3b-4248-c392-8dc8d7f88b1b"
      },
      "execution_count": null,
      "outputs": [
        {
          "output_type": "stream",
          "name": "stdout",
          "text": [
            "<class 'pandas.core.frame.DataFrame'>\n",
            "RangeIndex: 1360 entries, 0 to 1359\n",
            "Data columns (total 4 columns):\n",
            " #   Column      Non-Null Count  Dtype \n",
            "---  ------      --------------  ----- \n",
            " 0   Film        1360 non-null   object\n",
            " 1   Year        1360 non-null   object\n",
            " 2   Award       1360 non-null   object\n",
            " 3   Nomination  1360 non-null   object\n",
            "dtypes: object(4)\n",
            "memory usage: 42.6+ KB\n"
          ]
        }
      ]
    },
    {
      "cell_type": "code",
      "source": [
        "oscar.describe()"
      ],
      "metadata": {
        "colab": {
          "base_uri": "https://localhost:8080/",
          "height": 174
        },
        "id": "pcx1Aqw_wmZv",
        "outputId": "df71d9d0-4f9f-416c-9b2d-983167dd0c50"
      },
      "execution_count": null,
      "outputs": [
        {
          "output_type": "execute_result",
          "data": {
            "text/plain": [
              "                Film  Year Award Nomination\n",
              "count           1360  1360  1360       1360\n",
              "unique          1346    95    22         24\n",
              "top     Little Women  1945     1          1\n",
              "freq               3    21   969        544"
            ],
            "text/html": [
              "\n",
              "  <div id=\"df-91c4f136-05b4-4787-bd5b-cd51ea570be4\">\n",
              "    <div class=\"colab-df-container\">\n",
              "      <div>\n",
              "<style scoped>\n",
              "    .dataframe tbody tr th:only-of-type {\n",
              "        vertical-align: middle;\n",
              "    }\n",
              "\n",
              "    .dataframe tbody tr th {\n",
              "        vertical-align: top;\n",
              "    }\n",
              "\n",
              "    .dataframe thead th {\n",
              "        text-align: right;\n",
              "    }\n",
              "</style>\n",
              "<table border=\"1\" class=\"dataframe\">\n",
              "  <thead>\n",
              "    <tr style=\"text-align: right;\">\n",
              "      <th></th>\n",
              "      <th>Film</th>\n",
              "      <th>Year</th>\n",
              "      <th>Award</th>\n",
              "      <th>Nomination</th>\n",
              "    </tr>\n",
              "  </thead>\n",
              "  <tbody>\n",
              "    <tr>\n",
              "      <th>count</th>\n",
              "      <td>1360</td>\n",
              "      <td>1360</td>\n",
              "      <td>1360</td>\n",
              "      <td>1360</td>\n",
              "    </tr>\n",
              "    <tr>\n",
              "      <th>unique</th>\n",
              "      <td>1346</td>\n",
              "      <td>95</td>\n",
              "      <td>22</td>\n",
              "      <td>24</td>\n",
              "    </tr>\n",
              "    <tr>\n",
              "      <th>top</th>\n",
              "      <td>Little Women</td>\n",
              "      <td>1945</td>\n",
              "      <td>1</td>\n",
              "      <td>1</td>\n",
              "    </tr>\n",
              "    <tr>\n",
              "      <th>freq</th>\n",
              "      <td>3</td>\n",
              "      <td>21</td>\n",
              "      <td>969</td>\n",
              "      <td>544</td>\n",
              "    </tr>\n",
              "  </tbody>\n",
              "</table>\n",
              "</div>\n",
              "      <button class=\"colab-df-convert\" onclick=\"convertToInteractive('df-91c4f136-05b4-4787-bd5b-cd51ea570be4')\"\n",
              "              title=\"Convert this dataframe to an interactive table.\"\n",
              "              style=\"display:none;\">\n",
              "        \n",
              "  <svg xmlns=\"http://www.w3.org/2000/svg\" height=\"24px\"viewBox=\"0 0 24 24\"\n",
              "       width=\"24px\">\n",
              "    <path d=\"M0 0h24v24H0V0z\" fill=\"none\"/>\n",
              "    <path d=\"M18.56 5.44l.94 2.06.94-2.06 2.06-.94-2.06-.94-.94-2.06-.94 2.06-2.06.94zm-11 1L8.5 8.5l.94-2.06 2.06-.94-2.06-.94L8.5 2.5l-.94 2.06-2.06.94zm10 10l.94 2.06.94-2.06 2.06-.94-2.06-.94-.94-2.06-.94 2.06-2.06.94z\"/><path d=\"M17.41 7.96l-1.37-1.37c-.4-.4-.92-.59-1.43-.59-.52 0-1.04.2-1.43.59L10.3 9.45l-7.72 7.72c-.78.78-.78 2.05 0 2.83L4 21.41c.39.39.9.59 1.41.59.51 0 1.02-.2 1.41-.59l7.78-7.78 2.81-2.81c.8-.78.8-2.07 0-2.86zM5.41 20L4 18.59l7.72-7.72 1.47 1.35L5.41 20z\"/>\n",
              "  </svg>\n",
              "      </button>\n",
              "      \n",
              "  <style>\n",
              "    .colab-df-container {\n",
              "      display:flex;\n",
              "      flex-wrap:wrap;\n",
              "      gap: 12px;\n",
              "    }\n",
              "\n",
              "    .colab-df-convert {\n",
              "      background-color: #E8F0FE;\n",
              "      border: none;\n",
              "      border-radius: 50%;\n",
              "      cursor: pointer;\n",
              "      display: none;\n",
              "      fill: #1967D2;\n",
              "      height: 32px;\n",
              "      padding: 0 0 0 0;\n",
              "      width: 32px;\n",
              "    }\n",
              "\n",
              "    .colab-df-convert:hover {\n",
              "      background-color: #E2EBFA;\n",
              "      box-shadow: 0px 1px 2px rgba(60, 64, 67, 0.3), 0px 1px 3px 1px rgba(60, 64, 67, 0.15);\n",
              "      fill: #174EA6;\n",
              "    }\n",
              "\n",
              "    [theme=dark] .colab-df-convert {\n",
              "      background-color: #3B4455;\n",
              "      fill: #D2E3FC;\n",
              "    }\n",
              "\n",
              "    [theme=dark] .colab-df-convert:hover {\n",
              "      background-color: #434B5C;\n",
              "      box-shadow: 0px 1px 3px 1px rgba(0, 0, 0, 0.15);\n",
              "      filter: drop-shadow(0px 1px 2px rgba(0, 0, 0, 0.3));\n",
              "      fill: #FFFFFF;\n",
              "    }\n",
              "  </style>\n",
              "\n",
              "      <script>\n",
              "        const buttonEl =\n",
              "          document.querySelector('#df-91c4f136-05b4-4787-bd5b-cd51ea570be4 button.colab-df-convert');\n",
              "        buttonEl.style.display =\n",
              "          google.colab.kernel.accessAllowed ? 'block' : 'none';\n",
              "\n",
              "        async function convertToInteractive(key) {\n",
              "          const element = document.querySelector('#df-91c4f136-05b4-4787-bd5b-cd51ea570be4');\n",
              "          const dataTable =\n",
              "            await google.colab.kernel.invokeFunction('convertToInteractive',\n",
              "                                                     [key], {});\n",
              "          if (!dataTable) return;\n",
              "\n",
              "          const docLinkHtml = 'Like what you see? Visit the ' +\n",
              "            '<a target=\"_blank\" href=https://colab.research.google.com/notebooks/data_table.ipynb>data table notebook</a>'\n",
              "            + ' to learn more about interactive tables.';\n",
              "          element.innerHTML = '';\n",
              "          dataTable['output_type'] = 'display_data';\n",
              "          await google.colab.output.renderOutput(dataTable, element);\n",
              "          const docLink = document.createElement('div');\n",
              "          docLink.innerHTML = docLinkHtml;\n",
              "          element.appendChild(docLink);\n",
              "        }\n",
              "      </script>\n",
              "    </div>\n",
              "  </div>\n",
              "  "
            ]
          },
          "metadata": {},
          "execution_count": 47
        }
      ]
    },
    {
      "cell_type": "markdown",
      "source": [
        "# This all are LIVE data auto updated if wiki changed some data"
      ],
      "metadata": {
        "id": "7UjxYTyZwaY0"
      }
    },
    {
      "cell_type": "markdown",
      "source": [
        "## Advance Scraping ->\n",
        "* Python tool, google use (Python Scrapy)\n",
        "-> Crowlers, Spider (Bot)\n",
        "-> Price Tracker (Can create by Scrapy)"
      ],
      "metadata": {
        "id": "HZI9e9ITxHlM"
      }
    }
  ]
}